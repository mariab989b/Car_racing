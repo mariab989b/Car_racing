{
 "cells": [
  {
   "cell_type": "markdown",
   "metadata": {},
   "source": [
    "# Reinforcement Learning Project: Car Racing with Deep Q-Network (DQN)\n",
    "\n",
    "## Project Overview\n",
    "This notebook implements a DQN agent to solve the Car Racing environment from Gymnasium. The project covers:\n",
    "- Environment setup and exploration\n",
    "- DQN algorithm implementation\n",
    "- Training with experience replay and target networks\n",
    "- Hyperparameter tuning\n",
    "- Performance evaluation and visualization\n",
    "\n",
    "**Environment**: Car Racing-v2 (Gymnasium/Box2D)\n",
    "\n",
    "**Algorithm**: Deep Q-Network (DQN) with:\n",
    "- Experience Replay Buffer\n",
    "- Target Network\n",
    "- Frame Stacking\n",
    "- Epsilon-Greedy Exploration"
   ]
  },
  {
   "cell_type": "markdown",
   "metadata": {},
   "source": [
    "## 1. Installations"
   ]
  },
  {
   "cell_type": "code",
   "execution_count": 2,
   "metadata": {
    "collapsed": true,
    "execution": {
     "iopub.execute_input": "2025-10-29T20:57:55.283696Z",
     "iopub.status.busy": "2025-10-29T20:57:55.283135Z",
     "iopub.status.idle": "2025-10-29T20:58:04.910233Z",
     "shell.execute_reply": "2025-10-29T20:58:04.909397Z",
     "shell.execute_reply.started": "2025-10-29T20:57:55.283673Z"
    },
    "jupyter": {
     "outputs_hidden": true
    },
    "trusted": true
   },
   "outputs": [
    {
     "name": "stdout",
     "output_type": "stream",
     "text": [
      "Requirement already satisfied: matplotlib in /usr/local/lib/python3.11/dist-packages (3.7.2)\n",
      "Requirement already satisfied: opencv-python in /usr/local/lib/python3.11/dist-packages (4.12.0.88)\n",
      "Requirement already satisfied: tqdm in /usr/local/lib/python3.11/dist-packages (4.67.1)\n",
      "Requirement already satisfied: tensorboard in /usr/local/lib/python3.11/dist-packages (2.18.0)\n",
      "Requirement already satisfied: contourpy>=1.0.1 in /usr/local/lib/python3.11/dist-packages (from matplotlib) (1.3.2)\n",
      "Requirement already satisfied: cycler>=0.10 in /usr/local/lib/python3.11/dist-packages (from matplotlib) (0.12.1)\n",
      "Requirement already satisfied: fonttools>=4.22.0 in /usr/local/lib/python3.11/dist-packages (from matplotlib) (4.59.0)\n",
      "Requirement already satisfied: kiwisolver>=1.0.1 in /usr/local/lib/python3.11/dist-packages (from matplotlib) (1.4.8)\n",
      "Requirement already satisfied: numpy>=1.20 in /usr/local/lib/python3.11/dist-packages (from matplotlib) (1.26.4)\n",
      "Requirement already satisfied: packaging>=20.0 in /usr/local/lib/python3.11/dist-packages (from matplotlib) (25.0)\n",
      "Requirement already satisfied: pillow>=6.2.0 in /usr/local/lib/python3.11/dist-packages (from matplotlib) (11.3.0)\n",
      "Requirement already satisfied: pyparsing<3.1,>=2.3.1 in /usr/local/lib/python3.11/dist-packages (from matplotlib) (3.0.9)\n",
      "Requirement already satisfied: python-dateutil>=2.7 in /usr/local/lib/python3.11/dist-packages (from matplotlib) (2.9.0.post0)\n",
      "Collecting numpy>=1.20 (from matplotlib)\n",
      "  Using cached numpy-2.2.6-cp311-cp311-manylinux_2_17_x86_64.manylinux2014_x86_64.whl.metadata (62 kB)\n",
      "Requirement already satisfied: absl-py>=0.4 in /usr/local/lib/python3.11/dist-packages (from tensorboard) (1.4.0)\n",
      "Requirement already satisfied: grpcio>=1.48.2 in /usr/local/lib/python3.11/dist-packages (from tensorboard) (1.75.1)\n",
      "Requirement already satisfied: markdown>=2.6.8 in /usr/local/lib/python3.11/dist-packages (from tensorboard) (3.8.2)\n",
      "Requirement already satisfied: protobuf!=4.24.0,>=3.19.6 in /usr/local/lib/python3.11/dist-packages (from tensorboard) (3.20.3)\n",
      "Requirement already satisfied: setuptools>=41.0.0 in /usr/local/lib/python3.11/dist-packages (from tensorboard) (80.9.0)\n",
      "Requirement already satisfied: six>1.9 in /usr/local/lib/python3.11/dist-packages (from tensorboard) (1.17.0)\n",
      "Requirement already satisfied: tensorboard-data-server<0.8.0,>=0.7.0 in /usr/local/lib/python3.11/dist-packages (from tensorboard) (0.7.2)\n",
      "Requirement already satisfied: werkzeug>=1.0.1 in /usr/local/lib/python3.11/dist-packages (from tensorboard) (3.1.3)\n",
      "Requirement already satisfied: typing-extensions~=4.12 in /usr/local/lib/python3.11/dist-packages (from grpcio>=1.48.2->tensorboard) (4.15.0)\n",
      "Requirement already satisfied: MarkupSafe>=2.1.1 in /usr/local/lib/python3.11/dist-packages (from werkzeug>=1.0.1->tensorboard) (3.0.2)\n",
      "Using cached numpy-2.2.6-cp311-cp311-manylinux_2_17_x86_64.manylinux2014_x86_64.whl (16.8 MB)\n",
      "Installing collected packages: numpy\n",
      "  Attempting uninstall: numpy\n",
      "    Found existing installation: numpy 1.26.4\n",
      "    Uninstalling numpy-1.26.4:\n",
      "      Successfully uninstalled numpy-1.26.4\n",
      "\u001b[31mERROR: pip's dependency resolver does not currently take into account all the packages that are installed. This behaviour is the source of the following dependency conflicts.\n",
      "bigframes 2.12.0 requires google-cloud-bigquery-storage<3.0.0,>=2.30.0, which is not installed.\n",
      "gensim 4.3.3 requires numpy<2.0,>=1.18.5, but you have numpy 2.2.6 which is incompatible.\n",
      "gensim 4.3.3 requires scipy<1.14.0,>=1.7.0, but you have scipy 1.15.3 which is incompatible.\n",
      "mkl-umath 0.1.1 requires numpy<1.27.0,>=1.26.4, but you have numpy 2.2.6 which is incompatible.\n",
      "mkl-random 1.2.4 requires numpy<1.27.0,>=1.26.4, but you have numpy 2.2.6 which is incompatible.\n",
      "mkl-fft 1.3.8 requires numpy<1.27.0,>=1.26.4, but you have numpy 2.2.6 which is incompatible.\n",
      "numba 0.60.0 requires numpy<2.1,>=1.22, but you have numpy 2.2.6 which is incompatible.\n",
      "datasets 4.1.1 requires pyarrow>=21.0.0, but you have pyarrow 19.0.1 which is incompatible.\n",
      "onnx 1.18.0 requires protobuf>=4.25.1, but you have protobuf 3.20.3 which is incompatible.\n",
      "ydata-profiling 4.17.0 requires numpy<2.2,>=1.16.0, but you have numpy 2.2.6 which is incompatible.\n",
      "google-colab 1.0.0 requires google-auth==2.38.0, but you have google-auth 2.40.3 which is incompatible.\n",
      "google-colab 1.0.0 requires notebook==6.5.7, but you have notebook 6.5.4 which is incompatible.\n",
      "google-colab 1.0.0 requires pandas==2.2.2, but you have pandas 2.2.3 which is incompatible.\n",
      "google-colab 1.0.0 requires requests==2.32.3, but you have requests 2.32.5 which is incompatible.\n",
      "google-colab 1.0.0 requires tornado==6.4.2, but you have tornado 6.5.2 which is incompatible.\n",
      "dopamine-rl 4.1.2 requires gymnasium>=1.0.0, but you have gymnasium 0.29.0 which is incompatible.\n",
      "bigframes 2.12.0 requires google-cloud-bigquery[bqstorage,pandas]>=3.31.0, but you have google-cloud-bigquery 3.25.0 which is incompatible.\n",
      "bigframes 2.12.0 requires rich<14,>=12.4.4, but you have rich 14.1.0 which is incompatible.\n",
      "gradio 5.38.1 requires pydantic<2.12,>=2.0, but you have pydantic 2.12.0a1 which is incompatible.\n",
      "imbalanced-learn 0.13.0 requires scikit-learn<2,>=1.3.2, but you have scikit-learn 1.2.2 which is incompatible.\n",
      "pandas-gbq 0.29.2 requires google-api-core<3.0.0,>=2.10.2, but you have google-api-core 1.34.1 which is incompatible.\n",
      "transformers 4.53.3 requires huggingface-hub<1.0,>=0.30.0, but you have huggingface-hub 1.0.0rc2 which is incompatible.\n",
      "plotnine 0.14.5 requires matplotlib>=3.8.0, but you have matplotlib 3.7.2 which is incompatible.\n",
      "tensorflow 2.18.0 requires numpy<2.1.0,>=1.26.0, but you have numpy 2.2.6 which is incompatible.\n",
      "pylibcugraph-cu12 25.6.0 requires pylibraft-cu12==25.6.*, but you have pylibraft-cu12 25.2.0 which is incompatible.\n",
      "pylibcugraph-cu12 25.6.0 requires rmm-cu12==25.6.*, but you have rmm-cu12 25.2.0 which is incompatible.\n",
      "umap-learn 0.5.9.post2 requires scikit-learn>=1.6, but you have scikit-learn 1.2.2 which is incompatible.\n",
      "mlxtend 0.23.4 requires scikit-learn>=1.3.1, but you have scikit-learn 1.2.2 which is incompatible.\u001b[0m\u001b[31m\n",
      "\u001b[0mSuccessfully installed numpy-2.2.6\n",
      "Collecting numpy<2.0\n",
      "  Using cached numpy-1.26.4-cp311-cp311-manylinux_2_17_x86_64.manylinux2014_x86_64.whl.metadata (61 kB)\n",
      "Using cached numpy-1.26.4-cp311-cp311-manylinux_2_17_x86_64.manylinux2014_x86_64.whl (18.3 MB)\n",
      "Installing collected packages: numpy\n",
      "  Attempting uninstall: numpy\n",
      "    Found existing installation: numpy 2.2.6\n",
      "    Uninstalling numpy-2.2.6:\n",
      "      Successfully uninstalled numpy-2.2.6\n",
      "\u001b[31mERROR: pip's dependency resolver does not currently take into account all the packages that are installed. This behaviour is the source of the following dependency conflicts.\n",
      "bigframes 2.12.0 requires google-cloud-bigquery-storage<3.0.0,>=2.30.0, which is not installed.\n",
      "gensim 4.3.3 requires scipy<1.14.0,>=1.7.0, but you have scipy 1.15.3 which is incompatible.\n",
      "datasets 4.1.1 requires pyarrow>=21.0.0, but you have pyarrow 19.0.1 which is incompatible.\n",
      "onnx 1.18.0 requires protobuf>=4.25.1, but you have protobuf 3.20.3 which is incompatible.\n",
      "cesium 0.12.4 requires numpy<3.0,>=2.0, but you have numpy 1.26.4 which is incompatible.\n",
      "google-colab 1.0.0 requires google-auth==2.38.0, but you have google-auth 2.40.3 which is incompatible.\n",
      "google-colab 1.0.0 requires notebook==6.5.7, but you have notebook 6.5.4 which is incompatible.\n",
      "google-colab 1.0.0 requires pandas==2.2.2, but you have pandas 2.2.3 which is incompatible.\n",
      "google-colab 1.0.0 requires requests==2.32.3, but you have requests 2.32.5 which is incompatible.\n",
      "google-colab 1.0.0 requires tornado==6.4.2, but you have tornado 6.5.2 which is incompatible.\n",
      "dopamine-rl 4.1.2 requires gymnasium>=1.0.0, but you have gymnasium 0.29.0 which is incompatible.\n",
      "bigframes 2.12.0 requires google-cloud-bigquery[bqstorage,pandas]>=3.31.0, but you have google-cloud-bigquery 3.25.0 which is incompatible.\n",
      "bigframes 2.12.0 requires rich<14,>=12.4.4, but you have rich 14.1.0 which is incompatible.\n",
      "thinc 8.3.6 requires numpy<3.0.0,>=2.0.0, but you have numpy 1.26.4 which is incompatible.\n",
      "opencv-contrib-python 4.12.0.88 requires numpy<2.3.0,>=2; python_version >= \"3.9\", but you have numpy 1.26.4 which is incompatible.\n",
      "opencv-python 4.12.0.88 requires numpy<2.3.0,>=2; python_version >= \"3.9\", but you have numpy 1.26.4 which is incompatible.\n",
      "gradio 5.38.1 requires pydantic<2.12,>=2.0, but you have pydantic 2.12.0a1 which is incompatible.\n",
      "imbalanced-learn 0.13.0 requires scikit-learn<2,>=1.3.2, but you have scikit-learn 1.2.2 which is incompatible.\n",
      "pandas-gbq 0.29.2 requires google-api-core<3.0.0,>=2.10.2, but you have google-api-core 1.34.1 which is incompatible.\n",
      "transformers 4.53.3 requires huggingface-hub<1.0,>=0.30.0, but you have huggingface-hub 1.0.0rc2 which is incompatible.\n",
      "opencv-python-headless 4.12.0.88 requires numpy<2.3.0,>=2; python_version >= \"3.9\", but you have numpy 1.26.4 which is incompatible.\n",
      "plotnine 0.14.5 requires matplotlib>=3.8.0, but you have matplotlib 3.7.2 which is incompatible.\n",
      "pylibcugraph-cu12 25.6.0 requires pylibraft-cu12==25.6.*, but you have pylibraft-cu12 25.2.0 which is incompatible.\n",
      "pylibcugraph-cu12 25.6.0 requires rmm-cu12==25.6.*, but you have rmm-cu12 25.2.0 which is incompatible.\n",
      "umap-learn 0.5.9.post2 requires scikit-learn>=1.6, but you have scikit-learn 1.2.2 which is incompatible.\n",
      "mlxtend 0.23.4 requires scikit-learn>=1.3.1, but you have scikit-learn 1.2.2 which is incompatible.\u001b[0m\u001b[31m\n",
      "\u001b[0mSuccessfully installed numpy-1.26.4\n"
     ]
    }
   ],
   "source": [
    "!pip install matplotlib opencv-python tqdm tensorboard\n",
    "!pip install \"numpy<2.0\""
   ]
  },
  {
   "cell_type": "code",
   "execution_count": 3,
   "metadata": {
    "collapsed": true,
    "execution": {
     "iopub.execute_input": "2025-10-29T20:58:04.911989Z",
     "iopub.status.busy": "2025-10-29T20:58:04.911674Z",
     "iopub.status.idle": "2025-10-29T20:58:35.308595Z",
     "shell.execute_reply": "2025-10-29T20:58:35.307635Z",
     "shell.execute_reply.started": "2025-10-29T20:58:04.911959Z"
    },
    "jupyter": {
     "outputs_hidden": true
    },
    "trusted": true
   },
   "outputs": [
    {
     "name": "stdout",
     "output_type": "stream",
     "text": [
      "Found existing installation: torch 2.5.1+cu121\n",
      "Uninstalling torch-2.5.1+cu121:\n",
      "  Successfully uninstalled torch-2.5.1+cu121\n",
      "Found existing installation: torchvision 0.20.1+cu121\n",
      "Uninstalling torchvision-0.20.1+cu121:\n",
      "  Successfully uninstalled torchvision-0.20.1+cu121\n",
      "Looking in indexes: https://download.pytorch.org/whl/cu121\n",
      "Collecting torch\n",
      "  Using cached https://download.pytorch.org/whl/cu121/torch-2.5.1%2Bcu121-cp311-cp311-linux_x86_64.whl (780.5 MB)\n",
      "Collecting torchvision\n",
      "  Using cached https://download.pytorch.org/whl/cu121/torchvision-0.20.1%2Bcu121-cp311-cp311-linux_x86_64.whl (7.3 MB)\n",
      "Requirement already satisfied: filelock in /usr/local/lib/python3.11/dist-packages (from torch) (3.19.1)\n",
      "Requirement already satisfied: typing-extensions>=4.8.0 in /usr/local/lib/python3.11/dist-packages (from torch) (4.15.0)\n",
      "Requirement already satisfied: networkx in /usr/local/lib/python3.11/dist-packages (from torch) (3.5)\n",
      "Requirement already satisfied: jinja2 in /usr/local/lib/python3.11/dist-packages (from torch) (3.1.6)\n",
      "Requirement already satisfied: fsspec in /usr/local/lib/python3.11/dist-packages (from torch) (2025.9.0)\n",
      "Requirement already satisfied: nvidia-cuda-nvrtc-cu12==12.1.105 in /usr/local/lib/python3.11/dist-packages (from torch) (12.1.105)\n",
      "Requirement already satisfied: nvidia-cuda-runtime-cu12==12.1.105 in /usr/local/lib/python3.11/dist-packages (from torch) (12.1.105)\n",
      "Requirement already satisfied: nvidia-cuda-cupti-cu12==12.1.105 in /usr/local/lib/python3.11/dist-packages (from torch) (12.1.105)\n",
      "Requirement already satisfied: nvidia-cudnn-cu12==9.1.0.70 in /usr/local/lib/python3.11/dist-packages (from torch) (9.1.0.70)\n",
      "Requirement already satisfied: nvidia-cublas-cu12==12.1.3.1 in /usr/local/lib/python3.11/dist-packages (from torch) (12.1.3.1)\n",
      "Requirement already satisfied: nvidia-cufft-cu12==11.0.2.54 in /usr/local/lib/python3.11/dist-packages (from torch) (11.0.2.54)\n",
      "Requirement already satisfied: nvidia-curand-cu12==10.3.2.106 in /usr/local/lib/python3.11/dist-packages (from torch) (10.3.2.106)\n",
      "Requirement already satisfied: nvidia-cusolver-cu12==11.4.5.107 in /usr/local/lib/python3.11/dist-packages (from torch) (11.4.5.107)\n",
      "Requirement already satisfied: nvidia-cusparse-cu12==12.1.0.106 in /usr/local/lib/python3.11/dist-packages (from torch) (12.1.0.106)\n",
      "Requirement already satisfied: nvidia-nccl-cu12==2.21.5 in /usr/local/lib/python3.11/dist-packages (from torch) (2.21.5)\n",
      "Requirement already satisfied: nvidia-nvtx-cu12==12.1.105 in /usr/local/lib/python3.11/dist-packages (from torch) (12.1.105)\n",
      "Requirement already satisfied: triton==3.1.0 in /usr/local/lib/python3.11/dist-packages (from torch) (3.1.0)\n",
      "Requirement already satisfied: sympy==1.13.1 in /usr/local/lib/python3.11/dist-packages (from torch) (1.13.1)\n",
      "Requirement already satisfied: nvidia-nvjitlink-cu12 in /usr/local/lib/python3.11/dist-packages (from nvidia-cusolver-cu12==11.4.5.107->torch) (12.5.82)\n",
      "Requirement already satisfied: mpmath<1.4,>=1.1.0 in /usr/local/lib/python3.11/dist-packages (from sympy==1.13.1->torch) (1.3.0)\n",
      "Requirement already satisfied: numpy in /usr/local/lib/python3.11/dist-packages (from torchvision) (1.26.4)\n",
      "Requirement already satisfied: pillow!=8.3.*,>=5.3.0 in /usr/local/lib/python3.11/dist-packages (from torchvision) (11.3.0)\n",
      "Requirement already satisfied: MarkupSafe>=2.0 in /usr/local/lib/python3.11/dist-packages (from jinja2->torch) (3.0.2)\n",
      "Installing collected packages: torch, torchvision\n",
      "\u001b[2K   \u001b[90m━━━━━━━━━━━━━━━━━━━━━━━━━━━━━━━━━━━━━━━━\u001b[0m \u001b[32m2/2\u001b[0m [torchvision]\u001b[0m [torchvision]\n",
      "\u001b[1A\u001b[2K\u001b[31mERROR: pip's dependency resolver does not currently take into account all the packages that are installed. This behaviour is the source of the following dependency conflicts.\n",
      "torchaudio 2.6.0+cu124 requires torch==2.6.0, but you have torch 2.5.1+cu121 which is incompatible.\u001b[0m\u001b[31m\n",
      "\u001b[0mSuccessfully installed torch-2.5.1+cu121 torchvision-0.20.1+cu121\n"
     ]
    }
   ],
   "source": [
    "!pip uninstall -y torch torchvision\n",
    "!pip install torch torchvision --index-url https://download.pytorch.org/whl/cu121\n"
   ]
  },
  {
   "cell_type": "code",
   "execution_count": 4,
   "metadata": {
    "collapsed": true,
    "execution": {
     "iopub.execute_input": "2025-10-29T20:58:35.310166Z",
     "iopub.status.busy": "2025-10-29T20:58:35.309819Z",
     "iopub.status.idle": "2025-10-29T20:58:40.749374Z",
     "shell.execute_reply": "2025-10-29T20:58:40.748393Z",
     "shell.execute_reply.started": "2025-10-29T20:58:35.310131Z"
    },
    "jupyter": {
     "outputs_hidden": true
    },
    "trusted": true
   },
   "outputs": [
    {
     "name": "stdout",
     "output_type": "stream",
     "text": [
      "Requirement already satisfied: pip in /usr/local/lib/python3.11/dist-packages (25.3)\n",
      "Requirement already satisfied: setuptools in /usr/local/lib/python3.11/dist-packages (80.9.0)\n",
      "Requirement already satisfied: wheel in /usr/local/lib/python3.11/dist-packages (0.45.1)\n",
      "\u001b[33mWARNING: Skipping box2d-py as it is not installed.\u001b[0m\u001b[33m\n",
      "\u001b[0m\u001b[33mWARNING: Skipping Box2D as it is not installed.\u001b[0m\u001b[33m\n",
      "\u001b[0mRequirement already satisfied: ufal.pybox2d==2.3.10.4 in /usr/local/lib/python3.11/dist-packages (2.3.10.4)\n",
      "Requirement already satisfied: gymnasium in /usr/local/lib/python3.11/dist-packages (0.29.0)\n",
      "Requirement already satisfied: pygame in /usr/local/lib/python3.11/dist-packages (2.6.1)\n"
     ]
    }
   ],
   "source": [
    "!python -m pip install -U pip setuptools wheel\n",
    "!python -m pip uninstall -y box2d-py Box2D\n",
    "!python -m pip install ufal.pybox2d==2.3.10.4\n",
    "!python -m pip install --no-deps gymnasium pygame"
   ]
  },
  {
   "cell_type": "code",
   "execution_count": 5,
   "metadata": {
    "execution": {
     "iopub.execute_input": "2025-10-29T20:58:40.751972Z",
     "iopub.status.busy": "2025-10-29T20:58:40.751701Z",
     "iopub.status.idle": "2025-10-29T20:58:42.686374Z",
     "shell.execute_reply": "2025-10-29T20:58:42.685702Z",
     "shell.execute_reply.started": "2025-10-29T20:58:40.751948Z"
    },
    "trusted": true
   },
   "outputs": [
    {
     "name": "stdout",
     "output_type": "stream",
     "text": [
      "Using device: cuda\n"
     ]
    }
   ],
   "source": [
    "# Import libraries\n",
    "import gymnasium as gym\n",
    "import numpy as np\n",
    "import torch\n",
    "import torch.nn as nn\n",
    "import torch.optim as optim\n",
    "import torch.nn.functional as F\n",
    "from collections import deque, namedtuple\n",
    "import random\n",
    "import matplotlib.pyplot as plt\n",
    "import cv2\n",
    "from tqdm import tqdm\n",
    "import os\n",
    "from datetime import datetime\n",
    "\n",
    "# Set random seeds for reproducibility\n",
    "SEED = 42\n",
    "random.seed(SEED)\n",
    "np.random.seed(SEED)\n",
    "torch.manual_seed(SEED)\n",
    "\n",
    "# Device configuration\n",
    "import torch\n",
    "\n",
    "if torch.cuda.is_available():\n",
    "    device = torch.device(\"cuda\")\n",
    "elif torch.backends.mps.is_available():\n",
    "    device = torch.device(\"mps\")\n",
    "else:\n",
    "    device = torch.device(\"cpu\")\n",
    "\n",
    "print(f\"Using device: {device}\")"
   ]
  },
  {
   "cell_type": "markdown",
   "metadata": {},
   "source": [
    "## 2. Environment exploration"
   ]
  },
  {
   "cell_type": "code",
   "execution_count": 6,
   "metadata": {
    "execution": {
     "iopub.execute_input": "2025-10-29T20:58:42.687344Z",
     "iopub.status.busy": "2025-10-29T20:58:42.687053Z",
     "iopub.status.idle": "2025-10-29T20:58:43.128207Z",
     "shell.execute_reply": "2025-10-29T20:58:43.127269Z",
     "shell.execute_reply.started": "2025-10-29T20:58:42.687318Z"
    },
    "trusted": true
   },
   "outputs": [
    {
     "name": "stderr",
     "output_type": "stream",
     "text": [
      "<frozen importlib._bootstrap>:241: DeprecationWarning: builtin type SwigPyPacked has no __module__ attribute\n",
      "<frozen importlib._bootstrap>:241: DeprecationWarning: builtin type SwigPyObject has no __module__ attribute\n",
      "<frozen importlib._bootstrap>:241: DeprecationWarning: builtin type swigvarlink has no __module__ attribute\n",
      "/usr/local/lib/python3.11/dist-packages/pygame/pkgdata.py:25: UserWarning: pkg_resources is deprecated as an API. See https://setuptools.pypa.io/en/latest/pkg_resources.html. The pkg_resources package is slated for removal as early as 2025-11-30. Refrain from using this package or pin to Setuptools<81.\n",
      "  from pkg_resources import resource_stream, resource_exists\n",
      "/usr/local/lib/python3.11/dist-packages/pkg_resources/__init__.py:3146: DeprecationWarning: Deprecated call to `pkg_resources.declare_namespace('google')`.\n",
      "Implementing implicit namespace packages (as specified in PEP 420) is preferred to `pkg_resources.declare_namespace`. See https://setuptools.pypa.io/en/latest/references/keywords.html#keyword-namespace-packages\n",
      "  declare_namespace(pkg)\n",
      "/usr/local/lib/python3.11/dist-packages/pkg_resources/__init__.py:3146: DeprecationWarning: Deprecated call to `pkg_resources.declare_namespace('google.cloud')`.\n",
      "Implementing implicit namespace packages (as specified in PEP 420) is preferred to `pkg_resources.declare_namespace`. See https://setuptools.pypa.io/en/latest/references/keywords.html#keyword-namespace-packages\n",
      "  declare_namespace(pkg)\n",
      "/usr/local/lib/python3.11/dist-packages/pkg_resources/__init__.py:3146: DeprecationWarning: Deprecated call to `pkg_resources.declare_namespace('mpl_toolkits')`.\n",
      "Implementing implicit namespace packages (as specified in PEP 420) is preferred to `pkg_resources.declare_namespace`. See https://setuptools.pypa.io/en/latest/references/keywords.html#keyword-namespace-packages\n",
      "  declare_namespace(pkg)\n",
      "/usr/local/lib/python3.11/dist-packages/pkg_resources/__init__.py:3146: DeprecationWarning: Deprecated call to `pkg_resources.declare_namespace('sphinxcontrib')`.\n",
      "Implementing implicit namespace packages (as specified in PEP 420) is preferred to `pkg_resources.declare_namespace`. See https://setuptools.pypa.io/en/latest/references/keywords.html#keyword-namespace-packages\n",
      "  declare_namespace(pkg)\n"
     ]
    },
    {
     "name": "stdout",
     "output_type": "stream",
     "text": [
      "\n",
      "=== Environment Information ===\n",
      "Observation space: Box(0, 255, (96, 96, 3), uint8)\n",
      "Action space: Box([-1.  0.  0.], 1.0, (3,), float32)\n",
      "Action space shape: (3,)\n",
      "\n",
      "Action Description:\n",
      "  - Action[0]: Steering (-1.0 left, +1.0 right)\n",
      "  - Action[1]: Gas (0.0 to 1.0)\n",
      "  - Action[2]: Brake (0.0 to 1.0)\n",
      "\n",
      "State shape: (96, 96, 3)\n"
     ]
    },
    {
     "data": {
      "image/png": "[encoded data removed]",
      "text/plain": [
       "<Figure size 800x600 with 1 Axes>"
      ]
     },
     "metadata": {},
     "output_type": "display_data"
    }
   ],
   "source": [
    "# Create and explore the environment\n",
    "env = gym.make('CarRacing-v2', render_mode='rgb_array')\n",
    "\n",
    "print(\"\\n=== Environment Information ===\")\n",
    "print(f\"Observation space: {env.observation_space}\")\n",
    "print(f\"Action space: {env.action_space}\")\n",
    "print(f\"Action space shape: {env.action_space.shape}\")\n",
    "print(f\"\\nAction Description:\")\n",
    "print(\"  - Action[0]: Steering (-1.0 left, +1.0 right)\")\n",
    "print(\"  - Action[1]: Gas (0.0 to 1.0)\")\n",
    "print(\"  - Action[2]: Brake (0.0 to 1.0)\")\n",
    "\n",
    "# Reset and visualize initial state\n",
    "state, info = env.reset(seed=SEED)\n",
    "print(f\"\\nState shape: {state.shape}\")\n",
    "\n",
    "plt.figure(figsize=(8, 6))\n",
    "plt.imshow(state)\n",
    "plt.title(\"Initial State (96x96x3 RGB Image)\")\n",
    "plt.axis('off')\n",
    "plt.show()\n",
    "\n",
    "env.close()"
   ]
  },
  {
   "cell_type": "markdown",
   "metadata": {},
   "source": [
    "## 3. Preprocessing and Framestacking\n",
    "\n",
    "We'll preprocess the frames to:\n",
    "- Convert to grayscale\n",
    "- Resize to 84x84\n",
    "- Stack 4 consecutive frames to capture motion"
   ]
  },
  {
   "cell_type": "code",
   "execution_count": 7,
   "metadata": {
    "execution": {
     "iopub.execute_input": "2025-10-29T20:58:43.129443Z",
     "iopub.status.busy": "2025-10-29T20:58:43.129124Z",
     "iopub.status.idle": "2025-10-29T20:58:43.401332Z",
     "shell.execute_reply": "2025-10-29T20:58:43.400663Z",
     "shell.execute_reply.started": "2025-10-29T20:58:43.129415Z"
    },
    "trusted": true
   },
   "outputs": [
    {
     "data": {
      "image/png": "[encoded data removed]",
      "text/plain": [
       "<Figure size 1200x500 with 2 Axes>"
      ]
     },
     "metadata": {},
     "output_type": "display_data"
    }
   ],
   "source": [
    "class FrameStack:\n",
    "    \"\"\"Stack frames to capture temporal information\"\"\"\n",
    "    def __init__(self, num_stack=4):\n",
    "        self.num_stack = num_stack\n",
    "        self.frames = deque(maxlen=num_stack)\n",
    "    \n",
    "    def reset(self):\n",
    "        self.frames.clear()\n",
    "    \n",
    "    def add_frame(self, frame):\n",
    "        self.frames.append(frame)\n",
    "    \n",
    "    def get_state(self):\n",
    "        # Ensure we have enough frames\n",
    "        while len(self.frames) < self.num_stack:\n",
    "            self.frames.append(self.frames[-1] if self.frames else np.zeros((84, 84)))\n",
    "        return np.stack(self.frames, axis=0)\n",
    "\n",
    "\n",
    "def preprocess_frame(frame):\n",
    "    \"\"\"Preprocess a single frame\"\"\"\n",
    "    # Convert to grayscale\n",
    "    gray = cv2.cvtColor(frame, cv2.COLOR_RGB2GRAY)\n",
    "    # Resize to 84x84\n",
    "    resized = cv2.resize(gray, (84, 84), interpolation=cv2.INTER_AREA)\n",
    "    # Normalize to [0, 1]\n",
    "    normalized = resized / 255.0\n",
    "    return normalized.astype(np.float32)\n",
    "\n",
    "\n",
    "# Test preprocessing\n",
    "env = gym.make('CarRacing-v2', render_mode='rgb_array')\n",
    "state, _ = env.reset()\n",
    "processed = preprocess_frame(state)\n",
    "\n",
    "fig, axes = plt.subplots(1, 2, figsize=(12, 5))\n",
    "axes[0].imshow(state)\n",
    "axes[0].set_title(\"Original Frame (96x96x3)\")\n",
    "axes[0].axis('off')\n",
    "\n",
    "axes[1].imshow(processed, cmap='gray')\n",
    "axes[1].set_title(\"Preprocessed Frame (84x84)\")\n",
    "axes[1].axis('off')\n",
    "plt.tight_layout()\n",
    "plt.show()\n",
    "\n",
    "env.close()"
   ]
  },
  {
   "cell_type": "markdown",
   "metadata": {},
   "source": [
    "## 4. Discretize Action Space\n",
    "\n",
    "Car Racing has a continuous action space. We'll discretize it into 5 actions for DQN."
   ]
  },
  {
   "cell_type": "code",
   "execution_count": null,
   "metadata": {
    "execution": {
     "iopub.execute_input": "2025-10-29T20:58:43.402372Z",
     "iopub.status.busy": "2025-10-29T20:58:43.402123Z",
     "iopub.status.idle": "2025-10-29T20:58:43.408067Z",
     "shell.execute_reply": "2025-10-29T20:58:43.407446Z",
     "shell.execute_reply.started": "2025-10-29T20:58:43.402346Z"
    },
    "trusted": true
   },
   "outputs": [
    {
     "name": "stdout",
     "output_type": "stream",
     "text": [
      "Discrete Action Space:\n",
      "  0: Do Nothing   -> [0. 0. 0.]\n",
      "  1: Left         -> [-1.  0.  0.]\n",
      "  2: Right        -> [1. 0. 0.]\n",
      "  3: Gas          -> [0. 1. 0.]\n",
      "  4: Brake        -> [0.  0.  0.8]\n"
     ]
    }
   ],
   "source": [
    "ACTIONS = [\n",
    "    np.array([0.0, 0.0, 0.0]),     # 0: Do nothing\n",
    "    np.array([-1.0, 0.0, 0.0]),    # 1: Steer left\n",
    "    np.array([1.0, 0.0, 0.0]),     # 2: Steer right\n",
    "    np.array([0.0, 1.0, 0.0]),     # 3: Gas\n",
    "    np.array([0.0, 0.0, 0.8]),     # 4: Brake\n",
    "]\n",
    "\n",
    "ACTION_NAMES = [\"Do Nothing\", \"Left\", \"Right\", \"Gas\", \"Brake\"]\n",
    "NUM_ACTIONS = len(ACTIONS)\n",
    "\n",
    "print(\"Discrete Action Space:\")\n",
    "for i, (action, name) in enumerate(zip(ACTIONS, ACTION_NAMES)):\n",
    "    print(f\"  {i}: {name:12s} -> {action}\")"
   ]
  },
  {
   "cell_type": "markdown",
   "metadata": {},
   "source": [
    "## 5. Experience Replay Buffer"
   ]
  },
  {
   "cell_type": "code",
   "execution_count": 9,
   "metadata": {
    "execution": {
     "iopub.execute_input": "2025-10-29T20:58:43.408997Z",
     "iopub.status.busy": "2025-10-29T20:58:43.408810Z",
     "iopub.status.idle": "2025-10-29T20:58:43.426476Z",
     "shell.execute_reply": "2025-10-29T20:58:43.425695Z",
     "shell.execute_reply.started": "2025-10-29T20:58:43.408983Z"
    },
    "trusted": true
   },
   "outputs": [
    {
     "name": "stdout",
     "output_type": "stream",
     "text": [
      "Replay Buffer implemented successfully!\n"
     ]
    }
   ],
   "source": [
    "Transition = namedtuple('Transition', ('state', 'action', 'next_state', 'reward', 'done'))\n",
    "\n",
    "class ReplayBuffer:\n",
    "    \"\"\"Experience replay buffer for DQN\"\"\"\n",
    "    def __init__(self, capacity):\n",
    "        self.buffer = deque(maxlen=capacity)\n",
    "    \n",
    "    def push(self, *args):\n",
    "        \"\"\"Save a transition\"\"\"\n",
    "        self.buffer.append(Transition(*args))\n",
    "    \n",
    "    def sample(self, batch_size):\n",
    "        \"\"\"Sample a batch of transitions\"\"\"\n",
    "        transitions = random.sample(self.buffer, batch_size)\n",
    "        batch = Transition(*zip(*transitions))\n",
    "        \n",
    "        states = torch.FloatTensor(np.array(batch.state)).to(device)\n",
    "        actions = torch.LongTensor(batch.action).to(device)\n",
    "        next_states = torch.FloatTensor(np.array(batch.next_state)).to(device)\n",
    "        rewards = torch.FloatTensor(batch.reward).to(device)\n",
    "        dones = torch.FloatTensor(batch.done).to(device)\n",
    "        \n",
    "        return states, actions, next_states, rewards, dones\n",
    "    \n",
    "    def __len__(self):\n",
    "        return len(self.buffer)\n",
    "\n",
    "print(\"Replay Buffer implemented successfully!\")"
   ]
  },
  {
   "cell_type": "markdown",
   "metadata": {},
   "source": [
    "## 6. The DQN Architecture"
   ]
  },
  {
   "cell_type": "code",
   "execution_count": 10,
   "metadata": {
    "execution": {
     "iopub.execute_input": "2025-10-29T20:58:43.428047Z",
     "iopub.status.busy": "2025-10-29T20:58:43.427310Z",
     "iopub.status.idle": "2025-10-29T20:58:43.905824Z",
     "shell.execute_reply": "2025-10-29T20:58:43.905188Z",
     "shell.execute_reply.started": "2025-10-29T20:58:43.428029Z"
    },
    "trusted": true
   },
   "outputs": [
    {
     "name": "stdout",
     "output_type": "stream",
     "text": [
      "Network output shape: torch.Size([1, 5])\n",
      "Number of parameters: 1,686,693\n"
     ]
    }
   ],
   "source": [
    "class DQN(nn.Module):\n",
    "    \"\"\"Deep Q-Network using CNN for image processing\"\"\"\n",
    "    def __init__(self, num_actions, num_frames=4):\n",
    "        super(DQN, self).__init__()\n",
    "        \n",
    "        # Convolutional layers\n",
    "        self.conv1 = nn.Conv2d(num_frames, 32, kernel_size=8, stride=4)\n",
    "        self.conv2 = nn.Conv2d(32, 64, kernel_size=4, stride=2)\n",
    "        self.conv3 = nn.Conv2d(64, 64, kernel_size=3, stride=1)\n",
    "        \n",
    "        # Calculate the size of the flattened features\n",
    "        self.feature_size = self._get_conv_output((num_frames, 84, 84))\n",
    "        \n",
    "        # Fully connected layers\n",
    "        self.fc1 = nn.Linear(self.feature_size, 512)\n",
    "        self.fc2 = nn.Linear(512, num_actions)\n",
    "    \n",
    "    def _get_conv_output(self, shape):\n",
    "        \"\"\"Calculate the output size of conv layers\"\"\"\n",
    "        with torch.no_grad():\n",
    "            input = torch.zeros(1, *shape)\n",
    "            output = self.conv1(input)\n",
    "            output = self.conv2(output)\n",
    "            output = self.conv3(output)\n",
    "            return int(np.prod(output.size()))\n",
    "    \n",
    "    def forward(self, x):\n",
    "        \"\"\"Forward pass\"\"\"\n",
    "        x = F.relu(self.conv1(x))\n",
    "        x = F.relu(self.conv2(x))\n",
    "        x = F.relu(self.conv3(x))\n",
    "        x = x.view(x.size(0), -1)\n",
    "        x = F.relu(self.fc1(x))\n",
    "        x = self.fc2(x)\n",
    "        return x\n",
    "\n",
    "\n",
    "# Test the network\n",
    "test_net = DQN(NUM_ACTIONS).to(device)\n",
    "test_input = torch.randn(1, 4, 84, 84).to(device)\n",
    "test_output = test_net(test_input)\n",
    "print(f\"Network output shape: {test_output.shape}\")\n",
    "print(f\"Number of parameters: {sum(p.numel() for p in test_net.parameters()):,}\")"
   ]
  },
  {
   "cell_type": "markdown",
   "metadata": {},
   "source": [
    "## 7. DQN Agent"
   ]
  },
  {
   "cell_type": "code",
   "execution_count": 11,
   "metadata": {
    "execution": {
     "iopub.execute_input": "2025-10-29T20:58:43.908146Z",
     "iopub.status.busy": "2025-10-29T20:58:43.907893Z",
     "iopub.status.idle": "2025-10-29T20:58:43.919369Z",
     "shell.execute_reply": "2025-10-29T20:58:43.918640Z",
     "shell.execute_reply.started": "2025-10-29T20:58:43.908129Z"
    },
    "trusted": true
   },
   "outputs": [
    {
     "name": "stdout",
     "output_type": "stream",
     "text": [
      "DQN Agent implemented successfully!\n"
     ]
    }
   ],
   "source": [
    "class DQNAgent:\n",
    "    \"\"\"DQN Agent with target network and experience replay\"\"\"\n",
    "    def __init__(self, num_actions, hyperparameters):\n",
    "        self.num_actions = num_actions\n",
    "        self.hp = hyperparameters\n",
    "        \n",
    "        # Networks\n",
    "        self.policy_net = DQN(num_actions).to(device)\n",
    "        self.target_net = DQN(num_actions).to(device)\n",
    "        self.target_net.load_state_dict(self.policy_net.state_dict())\n",
    "        self.target_net.eval()\n",
    "        \n",
    "        # Optimizer\n",
    "        self.optimizer = optim.Adam(self.policy_net.parameters(), lr=self.hp['learning_rate'])\n",
    "        \n",
    "        # Replay buffer\n",
    "        self.memory = ReplayBuffer(self.hp['buffer_size'])\n",
    "        \n",
    "        # Training stats\n",
    "        self.steps = 0\n",
    "        self.epsilon = self.hp['epsilon_start']\n",
    "    \n",
    "    def select_action(self, state, training=True):\n",
    "        \"\"\"Select action using epsilon-greedy policy\"\"\"\n",
    "        if training and random.random() < self.epsilon:\n",
    "            return random.randrange(self.num_actions)\n",
    "        else:\n",
    "            with torch.no_grad():\n",
    "                state_tensor = torch.FloatTensor(state).unsqueeze(0).to(device)\n",
    "                q_values = self.policy_net(state_tensor)\n",
    "                return q_values.argmax().item()\n",
    "    \n",
    "    def update_epsilon(self):\n",
    "        \"\"\"Decay epsilon\"\"\"\n",
    "        self.epsilon = max(self.hp['epsilon_end'], \n",
    "                          self.epsilon * self.hp['epsilon_decay'])\n",
    "    \n",
    "    def update_target_network(self):\n",
    "        \"\"\"Copy policy network weights to target network\"\"\"\n",
    "        self.target_net.load_state_dict(self.policy_net.state_dict())\n",
    "    \n",
    "    def train_step(self):\n",
    "        \"\"\"Perform one training step\"\"\"\n",
    "        if len(self.memory) < self.hp['batch_size']:\n",
    "            return None\n",
    "        \n",
    "        # Sample batch\n",
    "        states, actions, next_states, rewards, dones = self.memory.sample(self.hp['batch_size'])\n",
    "        \n",
    "        # Compute Q(s, a)\n",
    "        q_values = self.policy_net(states).gather(1, actions.unsqueeze(1))\n",
    "        \n",
    "        # Compute target Q values\n",
    "        with torch.no_grad():\n",
    "            next_q_values = self.target_net(next_states).max(1)[0]\n",
    "            target_q_values = rewards + (1 - dones) * self.hp['gamma'] * next_q_values\n",
    "        \n",
    "        # Compute loss\n",
    "        loss = F.smooth_l1_loss(q_values.squeeze(), target_q_values)\n",
    "        \n",
    "        # Optimize\n",
    "        self.optimizer.zero_grad()\n",
    "        loss.backward()\n",
    "        torch.nn.utils.clip_grad_norm_(self.policy_net.parameters(), 10)\n",
    "        self.optimizer.step()\n",
    "        \n",
    "        return loss.item()\n",
    "    \n",
    "    def save(self, filepath):\n",
    "        \"\"\"Save model checkpoint\"\"\"\n",
    "        torch.save({\n",
    "            'policy_net': self.policy_net.state_dict(),\n",
    "            'target_net': self.target_net.state_dict(),\n",
    "            'optimizer': self.optimizer.state_dict(),\n",
    "            'epsilon': self.epsilon,\n",
    "            'steps': self.steps\n",
    "        }, filepath)\n",
    "    \n",
    "    def load(self, filepath):\n",
    "        \"\"\"Load model checkpoint\"\"\"\n",
    "        checkpoint = torch.load(filepath, map_location=device)\n",
    "        self.policy_net.load_state_dict(checkpoint['policy_net'])\n",
    "        self.target_net.load_state_dict(checkpoint['target_net'])\n",
    "        self.optimizer.load_state_dict(checkpoint['optimizer'])\n",
    "        self.epsilon = checkpoint['epsilon']\n",
    "        self.steps = checkpoint['steps']\n",
    "\n",
    "print(\"DQN Agent implemented successfully!\")"
   ]
  },
  {
   "cell_type": "markdown",
   "metadata": {},
   "source": [
    "## 8. Hyperparameters Configuration"
   ]
  },
  {
   "cell_type": "code",
   "execution_count": 12,
   "metadata": {
    "execution": {
     "iopub.execute_input": "2025-10-29T20:58:43.920373Z",
     "iopub.status.busy": "2025-10-29T20:58:43.920118Z",
     "iopub.status.idle": "2025-10-29T20:58:43.938665Z",
     "shell.execute_reply": "2025-10-29T20:58:43.938126Z",
     "shell.execute_reply.started": "2025-10-29T20:58:43.920356Z"
    },
    "trusted": true
   },
   "outputs": [
    {
     "name": "stdout",
     "output_type": "stream",
     "text": [
      "Hyperparameters:\n",
      "  learning_rate       : 0.0001\n",
      "  buffer_size         : 200000\n",
      "  batch_size          : 64\n",
      "  gamma               : 0.99\n",
      "  target_update       : 5000\n",
      "  epsilon_start       : 1.0\n",
      "  epsilon_end         : 0.05\n",
      "  epsilon_decay       : 0.992\n",
      "  num_episodes        : 1000\n",
      "  max_steps           : 1000\n"
     ]
    }
   ],
   "source": [
    "HYPERPARAMETERS = {\n",
    "    # Network\n",
    "    'learning_rate': 1e-4,\n",
    "    \n",
    "    # Replay buffer\n",
    "    'buffer_size': 200_000,\n",
    "    'batch_size': 64,\n",
    "    \n",
    "    # Training\n",
    "    'gamma': 0.99,              # Discount factor\n",
    "    'target_update': 5000,      # Update target network every N steps\n",
    "    \n",
    "    # Exploration\n",
    "    'epsilon_start': 1.0,\n",
    "    'epsilon_end': 0.05,\n",
    "    'epsilon_decay': 0.992,\n",
    "    \n",
    "    # Episodes\n",
    "    'num_episodes': 1000,\n",
    "    'max_steps': 1000,\n",
    "}\n",
    "print(\"Hyperparameters:\")\n",
    "for key, value in HYPERPARAMETERS.items():\n",
    "    print(f\"  {key:20s}: {value}\")"
   ]
  },
  {
   "cell_type": "markdown",
   "metadata": {},
   "source": [
    "## Training Loop"
   ]
  },
  {
   "cell_type": "code",
   "execution_count": 13,
   "metadata": {
    "execution": {
     "iopub.execute_input": "2025-10-29T20:58:43.939697Z",
     "iopub.status.busy": "2025-10-29T20:58:43.939485Z",
     "iopub.status.idle": "2025-10-29T20:58:43.957024Z",
     "shell.execute_reply": "2025-10-29T20:58:43.956386Z",
     "shell.execute_reply.started": "2025-10-29T20:58:43.939682Z"
    },
    "trusted": true
   },
   "outputs": [
    {
     "name": "stdout",
     "output_type": "stream",
     "text": [
      "Training function ready!\n"
     ]
    }
   ],
   "source": [
    "def train_dqn(agent, env, hyperparameters, save_dir='models'):\n",
    "    \"\"\"Train the DQN agent\"\"\"\n",
    "    os.makedirs(save_dir, exist_ok=True)\n",
    "    \n",
    "    # Training statistics\n",
    "    episode_rewards = []\n",
    "    episode_lengths = []\n",
    "    losses = []\n",
    "    epsilons = []\n",
    "    \n",
    "    best_reward = -float('inf')\n",
    "    \n",
    "    for episode in tqdm(range(hyperparameters['num_episodes']), desc=\"Training\"):\n",
    "        # Reset environment\n",
    "        state, _ = env.reset()\n",
    "        frame_stack = FrameStack(num_stack=4)\n",
    "        \n",
    "        # Initial frame stacking\n",
    "        processed_frame = preprocess_frame(state)\n",
    "        for _ in range(4):\n",
    "            frame_stack.add_frame(processed_frame)\n",
    "        current_state = frame_stack.get_state()\n",
    "        \n",
    "        episode_reward = 0\n",
    "        episode_loss = []\n",
    "        \n",
    "        for step in range(hyperparameters['max_steps']):\n",
    "            # Select and perform action\n",
    "            action_idx = agent.select_action(current_state)\n",
    "            action = ACTIONS[action_idx]\n",
    "            \n",
    "            next_state, reward, terminated, truncated, _ = env.step(action)\n",
    "            done = terminated or truncated\n",
    "            \n",
    "            # Preprocess next state\n",
    "            processed_frame = preprocess_frame(next_state)\n",
    "            frame_stack.add_frame(processed_frame)\n",
    "            next_state_stacked = frame_stack.get_state()\n",
    "            \n",
    "            # Store transition\n",
    "            agent.memory.push(current_state, action_idx, next_state_stacked, reward, float(done))\n",
    "            \n",
    "            current_state = next_state_stacked\n",
    "            episode_reward += reward\n",
    "            agent.steps += 1\n",
    "            \n",
    "            # Train\n",
    "            loss = agent.train_step()\n",
    "            if loss is not None:\n",
    "                episode_loss.append(loss)\n",
    "            \n",
    "            # Update target network\n",
    "            if agent.steps % hyperparameters['target_update'] == 0:\n",
    "                agent.update_target_network()\n",
    "            \n",
    "            if done:\n",
    "                break\n",
    "        \n",
    "        # Update epsilon\n",
    "        agent.update_epsilon()\n",
    "        \n",
    "        # Record statistics\n",
    "        episode_rewards.append(episode_reward)\n",
    "        episode_lengths.append(step + 1)\n",
    "        epsilons.append(agent.epsilon)\n",
    "        if episode_loss:\n",
    "            losses.append(np.mean(episode_loss))\n",
    "        \n",
    "        # Save best model\n",
    "        if episode_reward > best_reward:\n",
    "            best_reward = episode_reward\n",
    "            agent.save(os.path.join(save_dir, 'best_model.pth'))\n",
    "        \n",
    "        # Periodic logging\n",
    "        if (episode + 1) % 10 == 0:\n",
    "            avg_reward = np.mean(episode_rewards[-10:])\n",
    "            avg_length = np.mean(episode_lengths[-10:])\n",
    "            avg_loss = np.mean(losses[-10:]) if losses else 0\n",
    "            print(f\"\\nEpisode {episode+1}/{hyperparameters['num_episodes']}\")\n",
    "            print(f\"  Avg Reward (last 10): {avg_reward:.2f}\")\n",
    "            print(f\"  Avg Length (last 10): {avg_length:.1f}\")\n",
    "            print(f\"  Avg Loss (last 10): {avg_loss:.4f}\")\n",
    "            print(f\"  Epsilon: {agent.epsilon:.3f}\")\n",
    "            print(f\"  Best Reward: {best_reward:.2f}\")\n",
    "        \n",
    "        # Save checkpoint\n",
    "        if (episode + 1) % 50 == 0:\n",
    "            agent.save(os.path.join(save_dir, f'checkpoint_ep{episode+1}.pth'))\n",
    "    \n",
    "    # Save final model\n",
    "    agent.save(os.path.join(save_dir, 'final_model.pth'))\n",
    "    \n",
    "    return {\n",
    "        'episode_rewards': episode_rewards,\n",
    "        'episode_lengths': episode_lengths,\n",
    "        'losses': losses,\n",
    "        'epsilons': epsilons\n",
    "    }\n",
    "\n",
    "print(\"Training function ready!\")"
   ]
  },
  {
   "cell_type": "markdown",
   "metadata": {},
   "source": [
    "## 10. Start the training"
   ]
  },
  {
   "cell_type": "code",
   "execution_count": 14,
   "metadata": {
    "execution": {
     "iopub.execute_input": "2025-10-29T20:58:43.957900Z",
     "iopub.status.busy": "2025-10-29T20:58:43.957670Z",
     "iopub.status.idle": "2025-10-30T02:10:52.271127Z",
     "shell.execute_reply": "2025-10-30T02:10:52.270285Z",
     "shell.execute_reply.started": "2025-10-29T20:58:43.957876Z"
    },
    "trusted": true
   },
   "outputs": [
    {
     "name": "stderr",
     "output_type": "stream",
     "text": [
      "Training:   1%|          | 10/1000 [03:06<5:09:11, 18.74s/it]"
     ]
    },
    {
     "name": "stdout",
     "output_type": "stream",
     "text": [
      "\n",
      "Episode 10/1000\n",
      "  Avg Reward (last 10): -54.47\n",
      "  Avg Length (last 10): 1000.0\n",
      "  Avg Loss (last 10): 0.0336\n",
      "  Epsilon: 0.923\n",
      "  Best Reward: -47.76\n"
     ]
    },
    {
     "name": "stderr",
     "output_type": "stream",
     "text": [
      "Training:   2%|▏         | 20/1000 [06:18<5:13:55, 19.22s/it]"
     ]
    },
    {
     "name": "stdout",
     "output_type": "stream",
     "text": [
      "\n",
      "Episode 20/1000\n",
      "  Avg Reward (last 10): -53.27\n",
      "  Avg Length (last 10): 1000.0\n",
      "  Avg Loss (last 10): 0.0334\n",
      "  Epsilon: 0.852\n",
      "  Best Reward: -44.66\n"
     ]
    },
    {
     "name": "stderr",
     "output_type": "stream",
     "text": [
      "Training:   3%|▎         | 30/1000 [09:30<5:11:40, 19.28s/it]"
     ]
    },
    {
     "name": "stdout",
     "output_type": "stream",
     "text": [
      "\n",
      "Episode 30/1000\n",
      "  Avg Reward (last 10): -48.41\n",
      "  Avg Length (last 10): 1000.0\n",
      "  Avg Loss (last 10): 0.0327\n",
      "  Epsilon: 0.786\n",
      "  Best Reward: -36.57\n"
     ]
    },
    {
     "name": "stderr",
     "output_type": "stream",
     "text": [
      "Training:   4%|▍         | 40/1000 [12:44<5:17:42, 19.86s/it]"
     ]
    },
    {
     "name": "stdout",
     "output_type": "stream",
     "text": [
      "\n",
      "Episode 40/1000\n",
      "  Avg Reward (last 10): -39.91\n",
      "  Avg Length (last 10): 1000.0\n",
      "  Avg Loss (last 10): 0.0367\n",
      "  Epsilon: 0.725\n",
      "  Best Reward: -32.08\n"
     ]
    },
    {
     "name": "stderr",
     "output_type": "stream",
     "text": [
      "Training:   5%|▌         | 50/1000 [16:01<5:06:06, 19.33s/it]"
     ]
    },
    {
     "name": "stdout",
     "output_type": "stream",
     "text": [
      "\n",
      "Episode 50/1000\n",
      "  Avg Reward (last 10): -25.30\n",
      "  Avg Length (last 10): 1000.0\n",
      "  Avg Loss (last 10): 0.0400\n",
      "  Epsilon: 0.669\n",
      "  Best Reward: -2.10\n"
     ]
    },
    {
     "name": "stderr",
     "output_type": "stream",
     "text": [
      "Training:   6%|▌         | 60/1000 [19:14<5:03:04, 19.35s/it]"
     ]
    },
    {
     "name": "stdout",
     "output_type": "stream",
     "text": [
      "\n",
      "Episode 60/1000\n",
      "  Avg Reward (last 10): -28.19\n",
      "  Avg Length (last 10): 1000.0\n",
      "  Avg Loss (last 10): 0.0433\n",
      "  Epsilon: 0.618\n",
      "  Best Reward: 4.65\n"
     ]
    },
    {
     "name": "stderr",
     "output_type": "stream",
     "text": [
      "Training:   7%|▋         | 70/1000 [22:28<5:03:10, 19.56s/it]"
     ]
    },
    {
     "name": "stdout",
     "output_type": "stream",
     "text": [
      "\n",
      "Episode 70/1000\n",
      "  Avg Reward (last 10): -28.17\n",
      "  Avg Length (last 10): 1000.0\n",
      "  Avg Loss (last 10): 0.0452\n",
      "  Epsilon: 0.570\n",
      "  Best Reward: 4.65\n"
     ]
    },
    {
     "name": "stderr",
     "output_type": "stream",
     "text": [
      "Training:   8%|▊         | 80/1000 [25:43<4:57:37, 19.41s/it]"
     ]
    },
    {
     "name": "stdout",
     "output_type": "stream",
     "text": [
      "\n",
      "Episode 80/1000\n",
      "  Avg Reward (last 10): -17.06\n",
      "  Avg Length (last 10): 1000.0\n",
      "  Avg Loss (last 10): 0.0468\n",
      "  Epsilon: 0.526\n",
      "  Best Reward: 72.00\n"
     ]
    },
    {
     "name": "stderr",
     "output_type": "stream",
     "text": [
      "Training:   9%|▉         | 90/1000 [28:55<4:50:00, 19.12s/it]"
     ]
    },
    {
     "name": "stdout",
     "output_type": "stream",
     "text": [
      "\n",
      "Episode 90/1000\n",
      "  Avg Reward (last 10): -21.54\n",
      "  Avg Length (last 10): 1000.0\n",
      "  Avg Loss (last 10): 0.0491\n",
      "  Epsilon: 0.485\n",
      "  Best Reward: 72.00\n"
     ]
    },
    {
     "name": "stderr",
     "output_type": "stream",
     "text": [
      "Training:  10%|█         | 100/1000 [32:09<4:52:23, 19.49s/it]"
     ]
    },
    {
     "name": "stdout",
     "output_type": "stream",
     "text": [
      "\n",
      "Episode 100/1000\n",
      "  Avg Reward (last 10): -17.76\n",
      "  Avg Length (last 10): 1000.0\n",
      "  Avg Loss (last 10): 0.0501\n",
      "  Epsilon: 0.448\n",
      "  Best Reward: 72.00\n"
     ]
    },
    {
     "name": "stderr",
     "output_type": "stream",
     "text": [
      "Training:  11%|█         | 110/1000 [35:24<4:52:02, 19.69s/it]"
     ]
    },
    {
     "name": "stdout",
     "output_type": "stream",
     "text": [
      "\n",
      "Episode 110/1000\n",
      "  Avg Reward (last 10): -27.92\n",
      "  Avg Length (last 10): 1000.0\n",
      "  Avg Loss (last 10): 0.0508\n",
      "  Epsilon: 0.413\n",
      "  Best Reward: 72.00\n"
     ]
    },
    {
     "name": "stderr",
     "output_type": "stream",
     "text": [
      "Training:  12%|█▏        | 120/1000 [38:38<4:46:07, 19.51s/it]"
     ]
    },
    {
     "name": "stdout",
     "output_type": "stream",
     "text": [
      "\n",
      "Episode 120/1000\n",
      "  Avg Reward (last 10): -12.70\n",
      "  Avg Length (last 10): 1000.0\n",
      "  Avg Loss (last 10): 0.0522\n",
      "  Epsilon: 0.381\n",
      "  Best Reward: 72.00\n"
     ]
    },
    {
     "name": "stderr",
     "output_type": "stream",
     "text": [
      "Training:  13%|█▎        | 130/1000 [41:54<4:43:53, 19.58s/it]"
     ]
    },
    {
     "name": "stdout",
     "output_type": "stream",
     "text": [
      "\n",
      "Episode 130/1000\n",
      "  Avg Reward (last 10): 6.29\n",
      "  Avg Length (last 10): 1000.0\n",
      "  Avg Loss (last 10): 0.0538\n",
      "  Epsilon: 0.352\n",
      "  Best Reward: 223.84\n"
     ]
    },
    {
     "name": "stderr",
     "output_type": "stream",
     "text": [
      "Training:  14%|█▍        | 140/1000 [45:11<4:41:14, 19.62s/it]"
     ]
    },
    {
     "name": "stdout",
     "output_type": "stream",
     "text": [
      "\n",
      "Episode 140/1000\n",
      "  Avg Reward (last 10): -12.40\n",
      "  Avg Length (last 10): 1000.0\n",
      "  Avg Loss (last 10): 0.0558\n",
      "  Epsilon: 0.325\n",
      "  Best Reward: 223.84\n"
     ]
    },
    {
     "name": "stderr",
     "output_type": "stream",
     "text": [
      "Training:  15%|█▌        | 150/1000 [48:29<4:40:14, 19.78s/it]"
     ]
    },
    {
     "name": "stdout",
     "output_type": "stream",
     "text": [
      "\n",
      "Episode 150/1000\n",
      "  Avg Reward (last 10): -21.36\n",
      "  Avg Length (last 10): 1000.0\n",
      "  Avg Loss (last 10): 0.0565\n",
      "  Epsilon: 0.300\n",
      "  Best Reward: 223.84\n"
     ]
    },
    {
     "name": "stderr",
     "output_type": "stream",
     "text": [
      "Training:  16%|█▌        | 160/1000 [51:46<4:36:00, 19.71s/it]"
     ]
    },
    {
     "name": "stdout",
     "output_type": "stream",
     "text": [
      "\n",
      "Episode 160/1000\n",
      "  Avg Reward (last 10): -8.53\n",
      "  Avg Length (last 10): 983.5\n",
      "  Avg Loss (last 10): 0.0582\n",
      "  Epsilon: 0.277\n",
      "  Best Reward: 223.84\n"
     ]
    },
    {
     "name": "stderr",
     "output_type": "stream",
     "text": [
      "Training:  17%|█▋        | 170/1000 [54:41<3:53:36, 16.89s/it]"
     ]
    },
    {
     "name": "stdout",
     "output_type": "stream",
     "text": [
      "\n",
      "Episode 170/1000\n",
      "  Avg Reward (last 10): -52.34\n",
      "  Avg Length (last 10): 874.8\n",
      "  Avg Loss (last 10): 0.0612\n",
      "  Epsilon: 0.255\n",
      "  Best Reward: 223.84\n"
     ]
    },
    {
     "name": "stderr",
     "output_type": "stream",
     "text": [
      "Training:  18%|█▊        | 180/1000 [56:59<3:22:08, 14.79s/it]"
     ]
    },
    {
     "name": "stdout",
     "output_type": "stream",
     "text": [
      "\n",
      "Episode 180/1000\n",
      "  Avg Reward (last 10): -71.14\n",
      "  Avg Length (last 10): 678.7\n",
      "  Avg Loss (last 10): 0.0666\n",
      "  Epsilon: 0.236\n",
      "  Best Reward: 223.84\n"
     ]
    },
    {
     "name": "stderr",
     "output_type": "stream",
     "text": [
      "Training:  19%|█▉        | 190/1000 [59:15<3:30:52, 15.62s/it]"
     ]
    },
    {
     "name": "stdout",
     "output_type": "stream",
     "text": [
      "\n",
      "Episode 190/1000\n",
      "  Avg Reward (last 10): -70.85\n",
      "  Avg Length (last 10): 694.6\n",
      "  Avg Loss (last 10): 0.0741\n",
      "  Epsilon: 0.217\n",
      "  Best Reward: 223.84\n"
     ]
    },
    {
     "name": "stderr",
     "output_type": "stream",
     "text": [
      "Training:  20%|██        | 200/1000 [1:02:06<4:19:30, 19.46s/it]"
     ]
    },
    {
     "name": "stdout",
     "output_type": "stream",
     "text": [
      "\n",
      "Episode 200/1000\n",
      "  Avg Reward (last 10): 23.20\n",
      "  Avg Length (last 10): 851.2\n",
      "  Avg Loss (last 10): 0.0769\n",
      "  Epsilon: 0.201\n",
      "  Best Reward: 223.84\n"
     ]
    },
    {
     "name": "stderr",
     "output_type": "stream",
     "text": [
      "Training:  21%|██        | 210/1000 [1:05:24<4:18:55, 19.66s/it]"
     ]
    },
    {
     "name": "stdout",
     "output_type": "stream",
     "text": [
      "\n",
      "Episode 210/1000\n",
      "  Avg Reward (last 10): 8.07\n",
      "  Avg Length (last 10): 981.6\n",
      "  Avg Loss (last 10): 0.0794\n",
      "  Epsilon: 0.185\n",
      "  Best Reward: 223.84\n"
     ]
    },
    {
     "name": "stderr",
     "output_type": "stream",
     "text": [
      "Training:  22%|██▏       | 220/1000 [1:08:22<3:42:44, 17.13s/it]"
     ]
    },
    {
     "name": "stdout",
     "output_type": "stream",
     "text": [
      "\n",
      "Episode 220/1000\n",
      "  Avg Reward (last 10): -1.35\n",
      "  Avg Length (last 10): 895.3\n",
      "  Avg Loss (last 10): 0.0820\n",
      "  Epsilon: 0.171\n",
      "  Best Reward: 223.84\n"
     ]
    },
    {
     "name": "stderr",
     "output_type": "stream",
     "text": [
      "Training:  23%|██▎       | 230/1000 [1:11:10<4:02:33, 18.90s/it]"
     ]
    },
    {
     "name": "stdout",
     "output_type": "stream",
     "text": [
      "\n",
      "Episode 230/1000\n",
      "  Avg Reward (last 10): 19.25\n",
      "  Avg Length (last 10): 848.2\n",
      "  Avg Loss (last 10): 0.0882\n",
      "  Epsilon: 0.158\n",
      "  Best Reward: 223.84\n"
     ]
    },
    {
     "name": "stderr",
     "output_type": "stream",
     "text": [
      "Training:  24%|██▍       | 240/1000 [1:14:12<3:47:46, 17.98s/it]"
     ]
    },
    {
     "name": "stdout",
     "output_type": "stream",
     "text": [
      "\n",
      "Episode 240/1000\n",
      "  Avg Reward (last 10): 99.87\n",
      "  Avg Length (last 10): 912.2\n",
      "  Avg Loss (last 10): 0.0906\n",
      "  Epsilon: 0.145\n",
      "  Best Reward: 436.76\n"
     ]
    },
    {
     "name": "stderr",
     "output_type": "stream",
     "text": [
      "Training:  25%|██▌       | 250/1000 [1:17:36<4:17:16, 20.58s/it]"
     ]
    },
    {
     "name": "stdout",
     "output_type": "stream",
     "text": [
      "\n",
      "Episode 250/1000\n",
      "  Avg Reward (last 10): 346.75\n",
      "  Avg Length (last 10): 1000.0\n",
      "  Avg Loss (last 10): 0.1001\n",
      "  Epsilon: 0.134\n",
      "  Best Reward: 630.50\n"
     ]
    },
    {
     "name": "stderr",
     "output_type": "stream",
     "text": [
      "Training:  26%|██▌       | 260/1000 [1:21:02<4:12:19, 20.46s/it]"
     ]
    },
    {
     "name": "stdout",
     "output_type": "stream",
     "text": [
      "\n",
      "Episode 260/1000\n",
      "  Avg Reward (last 10): 425.13\n",
      "  Avg Length (last 10): 1000.0\n",
      "  Avg Loss (last 10): 0.1086\n",
      "  Epsilon: 0.124\n",
      "  Best Reward: 675.10\n"
     ]
    },
    {
     "name": "stderr",
     "output_type": "stream",
     "text": [
      "Training:  27%|██▋       | 270/1000 [1:24:27<4:08:47, 20.45s/it]"
     ]
    },
    {
     "name": "stdout",
     "output_type": "stream",
     "text": [
      "\n",
      "Episode 270/1000\n",
      "  Avg Reward (last 10): 475.24\n",
      "  Avg Length (last 10): 1000.0\n",
      "  Avg Loss (last 10): 0.1149\n",
      "  Epsilon: 0.114\n",
      "  Best Reward: 690.87\n"
     ]
    },
    {
     "name": "stderr",
     "output_type": "stream",
     "text": [
      "Training:  28%|██▊       | 280/1000 [1:27:52<4:06:09, 20.51s/it]"
     ]
    },
    {
     "name": "stdout",
     "output_type": "stream",
     "text": [
      "\n",
      "Episode 280/1000\n",
      "  Avg Reward (last 10): 692.18\n",
      "  Avg Length (last 10): 1000.0\n",
      "  Avg Loss (last 10): 0.1226\n",
      "  Epsilon: 0.106\n",
      "  Best Reward: 838.70\n"
     ]
    },
    {
     "name": "stderr",
     "output_type": "stream",
     "text": [
      "Training:  29%|██▉       | 290/1000 [1:31:18<4:02:30, 20.49s/it]"
     ]
    },
    {
     "name": "stdout",
     "output_type": "stream",
     "text": [
      "\n",
      "Episode 290/1000\n",
      "  Avg Reward (last 10): 711.68\n",
      "  Avg Length (last 10): 1000.0\n",
      "  Avg Loss (last 10): 0.1353\n",
      "  Epsilon: 0.097\n",
      "  Best Reward: 892.70\n"
     ]
    },
    {
     "name": "stderr",
     "output_type": "stream",
     "text": [
      "Training:  30%|███       | 300/1000 [1:34:41<4:00:58, 20.66s/it]"
     ]
    },
    {
     "name": "stdout",
     "output_type": "stream",
     "text": [
      "\n",
      "Episode 300/1000\n",
      "  Avg Reward (last 10): 733.20\n",
      "  Avg Length (last 10): 990.2\n",
      "  Avg Loss (last 10): 0.1432\n",
      "  Epsilon: 0.090\n",
      "  Best Reward: 909.80\n"
     ]
    },
    {
     "name": "stderr",
     "output_type": "stream",
     "text": [
      "Training:  31%|███       | 310/1000 [1:38:02<3:49:54, 19.99s/it]"
     ]
    },
    {
     "name": "stdout",
     "output_type": "stream",
     "text": [
      "\n",
      "Episode 310/1000\n",
      "  Avg Reward (last 10): 821.61\n",
      "  Avg Length (last 10): 972.4\n",
      "  Avg Loss (last 10): 0.1481\n",
      "  Epsilon: 0.083\n",
      "  Best Reward: 910.50\n"
     ]
    },
    {
     "name": "stderr",
     "output_type": "stream",
     "text": [
      "Training:  32%|███▏      | 320/1000 [1:41:19<3:47:57, 20.11s/it]"
     ]
    },
    {
     "name": "stdout",
     "output_type": "stream",
     "text": [
      "\n",
      "Episode 320/1000\n",
      "  Avg Reward (last 10): 876.19\n",
      "  Avg Length (last 10): 932.7\n",
      "  Avg Loss (last 10): 0.1572\n",
      "  Epsilon: 0.077\n",
      "  Best Reward: 923.00\n"
     ]
    },
    {
     "name": "stderr",
     "output_type": "stream",
     "text": [
      "Training:  33%|███▎      | 330/1000 [1:44:57<4:00:11, 21.51s/it]"
     ]
    },
    {
     "name": "stdout",
     "output_type": "stream",
     "text": [
      "\n",
      "Episode 330/1000\n",
      "  Avg Reward (last 10): 810.61\n",
      "  Avg Length (last 10): 961.4\n",
      "  Avg Loss (last 10): 0.1650\n",
      "  Epsilon: 0.071\n",
      "  Best Reward: 923.00\n"
     ]
    },
    {
     "name": "stderr",
     "output_type": "stream",
     "text": [
      "Training:  34%|███▍      | 340/1000 [1:48:19<3:42:16, 20.21s/it]"
     ]
    },
    {
     "name": "stdout",
     "output_type": "stream",
     "text": [
      "\n",
      "Episode 340/1000\n",
      "  Avg Reward (last 10): 819.64\n",
      "  Avg Length (last 10): 961.2\n",
      "  Avg Loss (last 10): 0.1704\n",
      "  Epsilon: 0.065\n",
      "  Best Reward: 923.00\n"
     ]
    },
    {
     "name": "stderr",
     "output_type": "stream",
     "text": [
      "Training:  35%|███▌      | 350/1000 [1:51:40<3:38:56, 20.21s/it]"
     ]
    },
    {
     "name": "stdout",
     "output_type": "stream",
     "text": [
      "\n",
      "Episode 350/1000\n",
      "  Avg Reward (last 10): 819.61\n",
      "  Avg Length (last 10): 966.1\n",
      "  Avg Loss (last 10): 0.1820\n",
      "  Epsilon: 0.060\n",
      "  Best Reward: 923.00\n"
     ]
    },
    {
     "name": "stderr",
     "output_type": "stream",
     "text": [
      "Training:  36%|███▌      | 360/1000 [1:55:01<3:42:07, 20.82s/it]"
     ]
    },
    {
     "name": "stdout",
     "output_type": "stream",
     "text": [
      "\n",
      "Episode 360/1000\n",
      "  Avg Reward (last 10): 823.53\n",
      "  Avg Length (last 10): 959.4\n",
      "  Avg Loss (last 10): 0.1951\n",
      "  Epsilon: 0.055\n",
      "  Best Reward: 923.00\n"
     ]
    },
    {
     "name": "stderr",
     "output_type": "stream",
     "text": [
      "Training:  37%|███▋      | 370/1000 [1:58:23<3:23:04, 19.34s/it]"
     ]
    },
    {
     "name": "stdout",
     "output_type": "stream",
     "text": [
      "\n",
      "Episode 370/1000\n",
      "  Avg Reward (last 10): 816.16\n",
      "  Avg Length (last 10): 954.0\n",
      "  Avg Loss (last 10): 0.2079\n",
      "  Epsilon: 0.051\n",
      "  Best Reward: 923.00\n"
     ]
    },
    {
     "name": "stderr",
     "output_type": "stream",
     "text": [
      "Training:  38%|███▊      | 380/1000 [2:01:45<3:21:33, 19.51s/it]"
     ]
    },
    {
     "name": "stdout",
     "output_type": "stream",
     "text": [
      "\n",
      "Episode 380/1000\n",
      "  Avg Reward (last 10): 877.41\n",
      "  Avg Length (last 10): 967.9\n",
      "  Avg Loss (last 10): 0.2247\n",
      "  Epsilon: 0.050\n",
      "  Best Reward: 923.00\n"
     ]
    },
    {
     "name": "stderr",
     "output_type": "stream",
     "text": [
      "Training:  39%|███▉      | 390/1000 [2:05:07<3:28:59, 20.56s/it]"
     ]
    },
    {
     "name": "stdout",
     "output_type": "stream",
     "text": [
      "\n",
      "Episode 390/1000\n",
      "  Avg Reward (last 10): 769.13\n",
      "  Avg Length (last 10): 981.2\n",
      "  Avg Loss (last 10): 0.2424\n",
      "  Epsilon: 0.050\n",
      "  Best Reward: 923.00\n"
     ]
    },
    {
     "name": "stderr",
     "output_type": "stream",
     "text": [
      "Training:  40%|████      | 400/1000 [2:08:34<3:46:02, 22.60s/it]"
     ]
    },
    {
     "name": "stdout",
     "output_type": "stream",
     "text": [
      "\n",
      "Episode 400/1000\n",
      "  Avg Reward (last 10): 769.04\n",
      "  Avg Length (last 10): 944.6\n",
      "  Avg Loss (last 10): 0.2518\n",
      "  Epsilon: 0.050\n",
      "  Best Reward: 929.40\n"
     ]
    },
    {
     "name": "stderr",
     "output_type": "stream",
     "text": [
      "Training:  41%|████      | 410/1000 [2:12:06<3:24:19, 20.78s/it]"
     ]
    },
    {
     "name": "stdout",
     "output_type": "stream",
     "text": [
      "\n",
      "Episode 410/1000\n",
      "  Avg Reward (last 10): 765.45\n",
      "  Avg Length (last 10): 945.1\n",
      "  Avg Loss (last 10): 0.2636\n",
      "  Epsilon: 0.050\n",
      "  Best Reward: 929.40\n"
     ]
    },
    {
     "name": "stderr",
     "output_type": "stream",
     "text": [
      "Training:  42%|████▏     | 420/1000 [2:15:20<3:09:54, 19.65s/it]"
     ]
    },
    {
     "name": "stdout",
     "output_type": "stream",
     "text": [
      "\n",
      "Episode 420/1000\n",
      "  Avg Reward (last 10): 756.66\n",
      "  Avg Length (last 10): 931.2\n",
      "  Avg Loss (last 10): 0.2781\n",
      "  Epsilon: 0.050\n",
      "  Best Reward: 931.60\n"
     ]
    },
    {
     "name": "stderr",
     "output_type": "stream",
     "text": [
      "Training:  43%|████▎     | 430/1000 [2:18:32<2:51:03, 18.01s/it]"
     ]
    },
    {
     "name": "stdout",
     "output_type": "stream",
     "text": [
      "\n",
      "Episode 430/1000\n",
      "  Avg Reward (last 10): 892.88\n",
      "  Avg Length (last 10): 917.8\n",
      "  Avg Loss (last 10): 0.2876\n",
      "  Epsilon: 0.050\n",
      "  Best Reward: 931.60\n"
     ]
    },
    {
     "name": "stderr",
     "output_type": "stream",
     "text": [
      "Training:  44%|████▍     | 440/1000 [2:21:41<2:46:42, 17.86s/it]"
     ]
    },
    {
     "name": "stdout",
     "output_type": "stream",
     "text": [
      "\n",
      "Episode 440/1000\n",
      "  Avg Reward (last 10): 895.20\n",
      "  Avg Length (last 10): 898.1\n",
      "  Avg Loss (last 10): 0.2947\n",
      "  Epsilon: 0.050\n",
      "  Best Reward: 931.60\n"
     ]
    },
    {
     "name": "stderr",
     "output_type": "stream",
     "text": [
      "Training:  45%|████▌     | 450/1000 [2:24:25<2:29:35, 16.32s/it]"
     ]
    },
    {
     "name": "stdout",
     "output_type": "stream",
     "text": [
      "\n",
      "Episode 450/1000\n",
      "  Avg Reward (last 10): 920.05\n",
      "  Avg Length (last 10): 778.2\n",
      "  Avg Loss (last 10): 0.3175\n",
      "  Epsilon: 0.050\n",
      "  Best Reward: 937.80\n"
     ]
    },
    {
     "name": "stderr",
     "output_type": "stream",
     "text": [
      "Training:  46%|████▌     | 460/1000 [2:27:38<2:47:10, 18.58s/it]"
     ]
    },
    {
     "name": "stdout",
     "output_type": "stream",
     "text": [
      "\n",
      "Episode 460/1000\n",
      "  Avg Reward (last 10): 826.16\n",
      "  Avg Length (last 10): 919.7\n",
      "  Avg Loss (last 10): 0.3135\n",
      "  Epsilon: 0.050\n",
      "  Best Reward: 937.80\n"
     ]
    },
    {
     "name": "stderr",
     "output_type": "stream",
     "text": [
      "Training:  47%|████▋     | 470/1000 [2:30:50<2:45:17, 18.71s/it]"
     ]
    },
    {
     "name": "stdout",
     "output_type": "stream",
     "text": [
      "\n",
      "Episode 470/1000\n",
      "  Avg Reward (last 10): 767.57\n",
      "  Avg Length (last 10): 925.4\n",
      "  Avg Loss (last 10): 0.3218\n",
      "  Epsilon: 0.050\n",
      "  Best Reward: 937.80\n"
     ]
    },
    {
     "name": "stderr",
     "output_type": "stream",
     "text": [
      "Training:  48%|████▊     | 480/1000 [2:33:47<2:31:46, 17.51s/it]"
     ]
    },
    {
     "name": "stdout",
     "output_type": "stream",
     "text": [
      "\n",
      "Episode 480/1000\n",
      "  Avg Reward (last 10): 912.18\n",
      "  Avg Length (last 10): 854.0\n",
      "  Avg Loss (last 10): 0.3244\n",
      "  Epsilon: 0.050\n",
      "  Best Reward: 937.80\n"
     ]
    },
    {
     "name": "stderr",
     "output_type": "stream",
     "text": [
      "Training:  49%|████▉     | 490/1000 [2:36:39<2:19:38, 16.43s/it]"
     ]
    },
    {
     "name": "stdout",
     "output_type": "stream",
     "text": [
      "\n",
      "Episode 490/1000\n",
      "  Avg Reward (last 10): 820.56\n",
      "  Avg Length (last 10): 836.2\n",
      "  Avg Loss (last 10): 0.3387\n",
      "  Epsilon: 0.050\n",
      "  Best Reward: 937.80\n"
     ]
    },
    {
     "name": "stderr",
     "output_type": "stream",
     "text": [
      "Training:  50%|█████     | 500/1000 [2:39:26<2:13:08, 15.98s/it]"
     ]
    },
    {
     "name": "stdout",
     "output_type": "stream",
     "text": [
      "\n",
      "Episode 500/1000\n",
      "  Avg Reward (last 10): 903.22\n",
      "  Avg Length (last 10): 811.1\n",
      "  Avg Loss (last 10): 0.3487\n",
      "  Epsilon: 0.050\n",
      "  Best Reward: 937.80\n"
     ]
    },
    {
     "name": "stderr",
     "output_type": "stream",
     "text": [
      "Training:  51%|█████     | 510/1000 [2:42:20<2:21:52, 17.37s/it]"
     ]
    },
    {
     "name": "stdout",
     "output_type": "stream",
     "text": [
      "\n",
      "Episode 510/1000\n",
      "  Avg Reward (last 10): 901.19\n",
      "  Avg Length (last 10): 841.5\n",
      "  Avg Loss (last 10): 0.3471\n",
      "  Epsilon: 0.050\n",
      "  Best Reward: 937.80\n"
     ]
    },
    {
     "name": "stderr",
     "output_type": "stream",
     "text": [
      "Training:  52%|█████▏    | 520/1000 [2:45:24<2:36:40, 19.58s/it]"
     ]
    },
    {
     "name": "stdout",
     "output_type": "stream",
     "text": [
      "\n",
      "Episode 520/1000\n",
      "  Avg Reward (last 10): 872.08\n",
      "  Avg Length (last 10): 893.3\n",
      "  Avg Loss (last 10): 0.3523\n",
      "  Epsilon: 0.050\n",
      "  Best Reward: 937.80\n"
     ]
    },
    {
     "name": "stderr",
     "output_type": "stream",
     "text": [
      "Training:  53%|█████▎    | 530/1000 [2:48:21<2:21:07, 18.02s/it]"
     ]
    },
    {
     "name": "stdout",
     "output_type": "stream",
     "text": [
      "\n",
      "Episode 530/1000\n",
      "  Avg Reward (last 10): 874.90\n",
      "  Avg Length (last 10): 855.9\n",
      "  Avg Loss (last 10): 0.3433\n",
      "  Epsilon: 0.050\n",
      "  Best Reward: 937.80\n"
     ]
    },
    {
     "name": "stderr",
     "output_type": "stream",
     "text": [
      "Training:  54%|█████▍    | 540/1000 [2:51:09<2:01:29, 15.85s/it]"
     ]
    },
    {
     "name": "stdout",
     "output_type": "stream",
     "text": [
      "\n",
      "Episode 540/1000\n",
      "  Avg Reward (last 10): 905.21\n",
      "  Avg Length (last 10): 809.9\n",
      "  Avg Loss (last 10): 0.3429\n",
      "  Epsilon: 0.050\n",
      "  Best Reward: 937.80\n"
     ]
    },
    {
     "name": "stderr",
     "output_type": "stream",
     "text": [
      "Training:  55%|█████▌    | 550/1000 [2:54:01<2:01:26, 16.19s/it]"
     ]
    },
    {
     "name": "stdout",
     "output_type": "stream",
     "text": [
      "\n",
      "Episode 550/1000\n",
      "  Avg Reward (last 10): 910.71\n",
      "  Avg Length (last 10): 826.1\n",
      "  Avg Loss (last 10): 0.3477\n",
      "  Epsilon: 0.050\n",
      "  Best Reward: 941.10\n"
     ]
    },
    {
     "name": "stderr",
     "output_type": "stream",
     "text": [
      "Training:  56%|█████▌    | 560/1000 [2:56:57<2:01:55, 16.63s/it]"
     ]
    },
    {
     "name": "stdout",
     "output_type": "stream",
     "text": [
      "\n",
      "Episode 560/1000\n",
      "  Avg Reward (last 10): 866.39\n",
      "  Avg Length (last 10): 842.1\n",
      "  Avg Loss (last 10): 0.3520\n",
      "  Epsilon: 0.050\n",
      "  Best Reward: 941.10\n"
     ]
    },
    {
     "name": "stderr",
     "output_type": "stream",
     "text": [
      "Training:  57%|█████▋    | 570/1000 [3:00:08<2:21:56, 19.81s/it]"
     ]
    },
    {
     "name": "stdout",
     "output_type": "stream",
     "text": [
      "\n",
      "Episode 570/1000\n",
      "  Avg Reward (last 10): 845.56\n",
      "  Avg Length (last 10): 918.2\n",
      "  Avg Loss (last 10): 0.3543\n",
      "  Epsilon: 0.050\n",
      "  Best Reward: 941.10\n"
     ]
    },
    {
     "name": "stderr",
     "output_type": "stream",
     "text": [
      "Training:  58%|█████▊    | 580/1000 [3:02:52<1:51:45, 15.97s/it]"
     ]
    },
    {
     "name": "stdout",
     "output_type": "stream",
     "text": [
      "\n",
      "Episode 580/1000\n",
      "  Avg Reward (last 10): 866.85\n",
      "  Avg Length (last 10): 791.3\n",
      "  Avg Loss (last 10): 0.3590\n",
      "  Epsilon: 0.050\n",
      "  Best Reward: 941.10\n"
     ]
    },
    {
     "name": "stderr",
     "output_type": "stream",
     "text": [
      "Training:  59%|█████▉    | 590/1000 [3:05:36<2:02:45, 17.97s/it]"
     ]
    },
    {
     "name": "stdout",
     "output_type": "stream",
     "text": [
      "\n",
      "Episode 590/1000\n",
      "  Avg Reward (last 10): 922.18\n",
      "  Avg Length (last 10): 772.1\n",
      "  Avg Loss (last 10): 0.3617\n",
      "  Epsilon: 0.050\n",
      "  Best Reward: 941.10\n"
     ]
    },
    {
     "name": "stderr",
     "output_type": "stream",
     "text": [
      "Training:  60%|██████    | 600/1000 [3:08:57<2:18:06, 20.72s/it]"
     ]
    },
    {
     "name": "stdout",
     "output_type": "stream",
     "text": [
      "\n",
      "Episode 600/1000\n",
      "  Avg Reward (last 10): 919.71\n",
      "  Avg Length (last 10): 790.6\n",
      "  Avg Loss (last 10): 0.3592\n",
      "  Epsilon: 0.050\n",
      "  Best Reward: 941.10\n"
     ]
    },
    {
     "name": "stderr",
     "output_type": "stream",
     "text": [
      "Training:  61%|██████    | 610/1000 [3:12:16<2:07:01, 19.54s/it]"
     ]
    },
    {
     "name": "stdout",
     "output_type": "stream",
     "text": [
      "\n",
      "Episode 610/1000\n",
      "  Avg Reward (last 10): 897.41\n",
      "  Avg Length (last 10): 782.1\n",
      "  Avg Loss (last 10): 0.3674\n",
      "  Epsilon: 0.050\n",
      "  Best Reward: 941.10\n"
     ]
    },
    {
     "name": "stderr",
     "output_type": "stream",
     "text": [
      "Training:  62%|██████▏   | 620/1000 [3:15:42<2:22:37, 22.52s/it]"
     ]
    },
    {
     "name": "stdout",
     "output_type": "stream",
     "text": [
      "\n",
      "Episode 620/1000\n",
      "  Avg Reward (last 10): 852.18\n",
      "  Avg Length (last 10): 814.6\n",
      "  Avg Loss (last 10): 0.3671\n",
      "  Epsilon: 0.050\n",
      "  Best Reward: 941.10\n"
     ]
    },
    {
     "name": "stderr",
     "output_type": "stream",
     "text": [
      "Training:  63%|██████▎   | 630/1000 [3:19:09<2:06:27, 20.51s/it]"
     ]
    },
    {
     "name": "stdout",
     "output_type": "stream",
     "text": [
      "\n",
      "Episode 630/1000\n",
      "  Avg Reward (last 10): 916.03\n",
      "  Avg Length (last 10): 809.7\n",
      "  Avg Loss (last 10): 0.3724\n",
      "  Epsilon: 0.050\n",
      "  Best Reward: 941.10\n"
     ]
    },
    {
     "name": "stderr",
     "output_type": "stream",
     "text": [
      "Training:  64%|██████▍   | 640/1000 [3:22:34<1:53:27, 18.91s/it]"
     ]
    },
    {
     "name": "stdout",
     "output_type": "stream",
     "text": [
      "\n",
      "Episode 640/1000\n",
      "  Avg Reward (last 10): 886.92\n",
      "  Avg Length (last 10): 814.8\n",
      "  Avg Loss (last 10): 0.3744\n",
      "  Epsilon: 0.050\n",
      "  Best Reward: 941.10\n"
     ]
    },
    {
     "name": "stderr",
     "output_type": "stream",
     "text": [
      "Training:  65%|██████▌   | 650/1000 [3:25:26<1:37:47, 16.76s/it]"
     ]
    },
    {
     "name": "stdout",
     "output_type": "stream",
     "text": [
      "\n",
      "Episode 650/1000\n",
      "  Avg Reward (last 10): 927.78\n",
      "  Avg Length (last 10): 698.8\n",
      "  Avg Loss (last 10): 0.3723\n",
      "  Epsilon: 0.050\n",
      "  Best Reward: 941.90\n"
     ]
    },
    {
     "name": "stderr",
     "output_type": "stream",
     "text": [
      "Training:  66%|██████▌   | 660/1000 [3:28:41<1:38:28, 17.38s/it]"
     ]
    },
    {
     "name": "stdout",
     "output_type": "stream",
     "text": [
      "\n",
      "Episode 660/1000\n",
      "  Avg Reward (last 10): 901.43\n",
      "  Avg Length (last 10): 804.9\n",
      "  Avg Loss (last 10): 0.3728\n",
      "  Epsilon: 0.050\n",
      "  Best Reward: 941.90\n"
     ]
    },
    {
     "name": "stderr",
     "output_type": "stream",
     "text": [
      "Training:  67%|██████▋   | 670/1000 [3:32:10<1:46:11, 19.31s/it]"
     ]
    },
    {
     "name": "stdout",
     "output_type": "stream",
     "text": [
      "\n",
      "Episode 670/1000\n",
      "  Avg Reward (last 10): 902.84\n",
      "  Avg Length (last 10): 869.3\n",
      "  Avg Loss (last 10): 0.3803\n",
      "  Epsilon: 0.050\n",
      "  Best Reward: 941.90\n"
     ]
    },
    {
     "name": "stderr",
     "output_type": "stream",
     "text": [
      "Training:  68%|██████▊   | 680/1000 [3:35:37<1:55:37, 21.68s/it]"
     ]
    },
    {
     "name": "stdout",
     "output_type": "stream",
     "text": [
      "\n",
      "Episode 680/1000\n",
      "  Avg Reward (last 10): 910.49\n",
      "  Avg Length (last 10): 850.2\n",
      "  Avg Loss (last 10): 0.3871\n",
      "  Epsilon: 0.050\n",
      "  Best Reward: 941.90\n"
     ]
    },
    {
     "name": "stderr",
     "output_type": "stream",
     "text": [
      "Training:  69%|██████▉   | 690/1000 [3:39:00<1:40:40, 19.49s/it]"
     ]
    },
    {
     "name": "stdout",
     "output_type": "stream",
     "text": [
      "\n",
      "Episode 690/1000\n",
      "  Avg Reward (last 10): 909.46\n",
      "  Avg Length (last 10): 836.9\n",
      "  Avg Loss (last 10): 0.3870\n",
      "  Epsilon: 0.050\n",
      "  Best Reward: 941.90\n"
     ]
    },
    {
     "name": "stderr",
     "output_type": "stream",
     "text": [
      "Training:  70%|███████   | 700/1000 [3:42:08<1:27:55, 17.58s/it]"
     ]
    },
    {
     "name": "stdout",
     "output_type": "stream",
     "text": [
      "\n",
      "Episode 700/1000\n",
      "  Avg Reward (last 10): 920.24\n",
      "  Avg Length (last 10): 777.2\n",
      "  Avg Loss (last 10): 0.3966\n",
      "  Epsilon: 0.050\n",
      "  Best Reward: 941.90\n"
     ]
    },
    {
     "name": "stderr",
     "output_type": "stream",
     "text": [
      "Training:  71%|███████   | 710/1000 [3:45:23<1:32:51, 19.21s/it]"
     ]
    },
    {
     "name": "stdout",
     "output_type": "stream",
     "text": [
      "\n",
      "Episode 710/1000\n",
      "  Avg Reward (last 10): 908.71\n",
      "  Avg Length (last 10): 798.7\n",
      "  Avg Loss (last 10): 0.4038\n",
      "  Epsilon: 0.050\n",
      "  Best Reward: 941.90\n"
     ]
    },
    {
     "name": "stderr",
     "output_type": "stream",
     "text": [
      "Training:  72%|███████▏  | 720/1000 [3:49:10<1:49:42, 23.51s/it]"
     ]
    },
    {
     "name": "stdout",
     "output_type": "stream",
     "text": [
      "\n",
      "Episode 720/1000\n",
      "  Avg Reward (last 10): 895.18\n",
      "  Avg Length (last 10): 944.6\n",
      "  Avg Loss (last 10): 0.4001\n",
      "  Epsilon: 0.050\n",
      "  Best Reward: 941.90\n"
     ]
    },
    {
     "name": "stderr",
     "output_type": "stream",
     "text": [
      "Training:  73%|███████▎  | 730/1000 [3:52:12<1:30:57, 20.21s/it]"
     ]
    },
    {
     "name": "stdout",
     "output_type": "stream",
     "text": [
      "\n",
      "Episode 730/1000\n",
      "  Avg Reward (last 10): 898.94\n",
      "  Avg Length (last 10): 809.8\n",
      "  Avg Loss (last 10): 0.4195\n",
      "  Epsilon: 0.050\n",
      "  Best Reward: 941.90\n"
     ]
    },
    {
     "name": "stderr",
     "output_type": "stream",
     "text": [
      "Training:  74%|███████▍  | 740/1000 [3:54:56<1:11:15, 16.44s/it]"
     ]
    },
    {
     "name": "stdout",
     "output_type": "stream",
     "text": [
      "\n",
      "Episode 740/1000\n",
      "  Avg Reward (last 10): 920.37\n",
      "  Avg Length (last 10): 771.0\n",
      "  Avg Loss (last 10): 0.4209\n",
      "  Epsilon: 0.050\n",
      "  Best Reward: 941.90\n"
     ]
    },
    {
     "name": "stderr",
     "output_type": "stream",
     "text": [
      "Training:  75%|███████▌  | 750/1000 [3:57:48<1:18:11, 18.77s/it]"
     ]
    },
    {
     "name": "stdout",
     "output_type": "stream",
     "text": [
      "\n",
      "Episode 750/1000\n",
      "  Avg Reward (last 10): 911.62\n",
      "  Avg Length (last 10): 812.5\n",
      "  Avg Loss (last 10): 0.4336\n",
      "  Epsilon: 0.050\n",
      "  Best Reward: 945.10\n"
     ]
    },
    {
     "name": "stderr",
     "output_type": "stream",
     "text": [
      "Training:  76%|███████▌  | 760/1000 [4:00:21<58:44, 14.69s/it]  "
     ]
    },
    {
     "name": "stdout",
     "output_type": "stream",
     "text": [
      "\n",
      "Episode 760/1000\n",
      "  Avg Reward (last 10): 927.02\n",
      "  Avg Length (last 10): 723.0\n",
      "  Avg Loss (last 10): 0.4322\n",
      "  Epsilon: 0.050\n",
      "  Best Reward: 945.10\n"
     ]
    },
    {
     "name": "stderr",
     "output_type": "stream",
     "text": [
      "Training:  77%|███████▋  | 770/1000 [4:03:04<1:05:42, 17.14s/it]"
     ]
    },
    {
     "name": "stdout",
     "output_type": "stream",
     "text": [
      "\n",
      "Episode 770/1000\n",
      "  Avg Reward (last 10): 918.39\n",
      "  Avg Length (last 10): 768.3\n",
      "  Avg Loss (last 10): 0.4304\n",
      "  Epsilon: 0.050\n",
      "  Best Reward: 945.10\n"
     ]
    },
    {
     "name": "stderr",
     "output_type": "stream",
     "text": [
      "Training:  78%|███████▊  | 780/1000 [4:05:51<1:00:42, 16.56s/it]"
     ]
    },
    {
     "name": "stdout",
     "output_type": "stream",
     "text": [
      "\n",
      "Episode 780/1000\n",
      "  Avg Reward (last 10): 916.98\n",
      "  Avg Length (last 10): 800.8\n",
      "  Avg Loss (last 10): 0.4369\n",
      "  Epsilon: 0.050\n",
      "  Best Reward: 945.10\n"
     ]
    },
    {
     "name": "stderr",
     "output_type": "stream",
     "text": [
      "Training:  79%|███████▉  | 790/1000 [4:08:23<49:23, 14.11s/it]  "
     ]
    },
    {
     "name": "stdout",
     "output_type": "stream",
     "text": [
      "\n",
      "Episode 790/1000\n",
      "  Avg Reward (last 10): 926.60\n",
      "  Avg Length (last 10): 730.5\n",
      "  Avg Loss (last 10): 0.4441\n",
      "  Epsilon: 0.050\n",
      "  Best Reward: 945.40\n"
     ]
    },
    {
     "name": "stderr",
     "output_type": "stream",
     "text": [
      "Training:  80%|████████  | 800/1000 [4:11:17<50:22, 15.11s/it]  "
     ]
    },
    {
     "name": "stdout",
     "output_type": "stream",
     "text": [
      "\n",
      "Episode 800/1000\n",
      "  Avg Reward (last 10): 906.98\n",
      "  Avg Length (last 10): 833.5\n",
      "  Avg Loss (last 10): 0.4342\n",
      "  Epsilon: 0.050\n",
      "  Best Reward: 945.40\n"
     ]
    },
    {
     "name": "stderr",
     "output_type": "stream",
     "text": [
      "Training:  81%|████████  | 810/1000 [4:14:01<53:58, 17.04s/it]"
     ]
    },
    {
     "name": "stdout",
     "output_type": "stream",
     "text": [
      "\n",
      "Episode 810/1000\n",
      "  Avg Reward (last 10): 919.11\n",
      "  Avg Length (last 10): 791.7\n",
      "  Avg Loss (last 10): 0.4440\n",
      "  Epsilon: 0.050\n",
      "  Best Reward: 945.40\n"
     ]
    },
    {
     "name": "stderr",
     "output_type": "stream",
     "text": [
      "Training:  82%|████████▏ | 820/1000 [4:16:40<47:23, 15.80s/it]"
     ]
    },
    {
     "name": "stdout",
     "output_type": "stream",
     "text": [
      "\n",
      "Episode 820/1000\n",
      "  Avg Reward (last 10): 883.80\n",
      "  Avg Length (last 10): 766.7\n",
      "  Avg Loss (last 10): 0.4518\n",
      "  Epsilon: 0.050\n",
      "  Best Reward: 945.40\n"
     ]
    },
    {
     "name": "stderr",
     "output_type": "stream",
     "text": [
      "Training:  83%|████████▎ | 830/1000 [4:19:29<51:44, 18.26s/it]"
     ]
    },
    {
     "name": "stdout",
     "output_type": "stream",
     "text": [
      "\n",
      "Episode 830/1000\n",
      "  Avg Reward (last 10): 911.77\n",
      "  Avg Length (last 10): 826.7\n",
      "  Avg Loss (last 10): 0.4543\n",
      "  Epsilon: 0.050\n",
      "  Best Reward: 945.40\n"
     ]
    },
    {
     "name": "stderr",
     "output_type": "stream",
     "text": [
      "Training:  84%|████████▍ | 840/1000 [4:22:36<49:24, 18.53s/it]"
     ]
    },
    {
     "name": "stdout",
     "output_type": "stream",
     "text": [
      "\n",
      "Episode 840/1000\n",
      "  Avg Reward (last 10): 840.77\n",
      "  Avg Length (last 10): 904.2\n",
      "  Avg Loss (last 10): 0.4611\n",
      "  Epsilon: 0.050\n",
      "  Best Reward: 945.40\n"
     ]
    },
    {
     "name": "stderr",
     "output_type": "stream",
     "text": [
      "Training:  85%|████████▌ | 850/1000 [4:25:29<45:38, 18.25s/it]"
     ]
    },
    {
     "name": "stdout",
     "output_type": "stream",
     "text": [
      "\n",
      "Episode 850/1000\n",
      "  Avg Reward (last 10): 907.39\n",
      "  Avg Length (last 10): 841.9\n",
      "  Avg Loss (last 10): 0.4675\n",
      "  Epsilon: 0.050\n",
      "  Best Reward: 945.40\n"
     ]
    },
    {
     "name": "stderr",
     "output_type": "stream",
     "text": [
      "Training:  86%|████████▌ | 860/1000 [4:28:26<38:16, 16.40s/it]"
     ]
    },
    {
     "name": "stdout",
     "output_type": "stream",
     "text": [
      "\n",
      "Episode 860/1000\n",
      "  Avg Reward (last 10): 908.37\n",
      "  Avg Length (last 10): 862.4\n",
      "  Avg Loss (last 10): 0.4673\n",
      "  Epsilon: 0.050\n",
      "  Best Reward: 945.40\n"
     ]
    },
    {
     "name": "stderr",
     "output_type": "stream",
     "text": [
      "Training:  87%|████████▋ | 870/1000 [4:31:21<38:15, 17.66s/it]"
     ]
    },
    {
     "name": "stdout",
     "output_type": "stream",
     "text": [
      "\n",
      "Episode 870/1000\n",
      "  Avg Reward (last 10): 911.02\n",
      "  Avg Length (last 10): 857.5\n",
      "  Avg Loss (last 10): 0.4809\n",
      "  Epsilon: 0.050\n",
      "  Best Reward: 945.40\n"
     ]
    },
    {
     "name": "stderr",
     "output_type": "stream",
     "text": [
      "Training:  88%|████████▊ | 880/1000 [4:34:29<39:38, 19.82s/it]"
     ]
    },
    {
     "name": "stdout",
     "output_type": "stream",
     "text": [
      "\n",
      "Episode 880/1000\n",
      "  Avg Reward (last 10): 884.71\n",
      "  Avg Length (last 10): 917.9\n",
      "  Avg Loss (last 10): 0.4774\n",
      "  Epsilon: 0.050\n",
      "  Best Reward: 945.40\n"
     ]
    },
    {
     "name": "stderr",
     "output_type": "stream",
     "text": [
      "Training:  89%|████████▉ | 890/1000 [4:37:06<31:32, 17.21s/it]"
     ]
    },
    {
     "name": "stdout",
     "output_type": "stream",
     "text": [
      "\n",
      "Episode 890/1000\n",
      "  Avg Reward (last 10): 886.78\n",
      "  Avg Length (last 10): 763.0\n",
      "  Avg Loss (last 10): 0.4844\n",
      "  Epsilon: 0.050\n",
      "  Best Reward: 945.40\n"
     ]
    },
    {
     "name": "stderr",
     "output_type": "stream",
     "text": [
      "Training:  90%|█████████ | 900/1000 [4:39:58<24:50, 14.91s/it]"
     ]
    },
    {
     "name": "stdout",
     "output_type": "stream",
     "text": [
      "\n",
      "Episode 900/1000\n",
      "  Avg Reward (last 10): 808.14\n",
      "  Avg Length (last 10): 836.8\n",
      "  Avg Loss (last 10): 0.4817\n",
      "  Epsilon: 0.050\n",
      "  Best Reward: 945.40\n"
     ]
    },
    {
     "name": "stderr",
     "output_type": "stream",
     "text": [
      "Training:  91%|█████████ | 910/1000 [4:42:57<28:11, 18.80s/it]"
     ]
    },
    {
     "name": "stdout",
     "output_type": "stream",
     "text": [
      "\n",
      "Episode 910/1000\n",
      "  Avg Reward (last 10): 877.64\n",
      "  Avg Length (last 10): 871.5\n",
      "  Avg Loss (last 10): 0.4836\n",
      "  Epsilon: 0.050\n",
      "  Best Reward: 945.40\n"
     ]
    },
    {
     "name": "stderr",
     "output_type": "stream",
     "text": [
      "Training:  92%|█████████▏| 920/1000 [4:45:54<25:35, 19.19s/it]"
     ]
    },
    {
     "name": "stdout",
     "output_type": "stream",
     "text": [
      "\n",
      "Episode 920/1000\n",
      "  Avg Reward (last 10): 905.47\n",
      "  Avg Length (last 10): 863.3\n",
      "  Avg Loss (last 10): 0.4883\n",
      "  Epsilon: 0.050\n",
      "  Best Reward: 945.40\n"
     ]
    },
    {
     "name": "stderr",
     "output_type": "stream",
     "text": [
      "Training:  93%|█████████▎| 930/1000 [4:49:03<20:42, 17.75s/it]"
     ]
    },
    {
     "name": "stdout",
     "output_type": "stream",
     "text": [
      "\n",
      "Episode 930/1000\n",
      "  Avg Reward (last 10): 891.17\n",
      "  Avg Length (last 10): 921.5\n",
      "  Avg Loss (last 10): 0.4913\n",
      "  Epsilon: 0.050\n",
      "  Best Reward: 945.40\n"
     ]
    },
    {
     "name": "stderr",
     "output_type": "stream",
     "text": [
      "Training:  94%|█████████▍| 940/1000 [4:52:01<17:20, 17.34s/it]"
     ]
    },
    {
     "name": "stdout",
     "output_type": "stream",
     "text": [
      "\n",
      "Episode 940/1000\n",
      "  Avg Reward (last 10): 853.27\n",
      "  Avg Length (last 10): 868.6\n",
      "  Avg Loss (last 10): 0.4999\n",
      "  Epsilon: 0.050\n",
      "  Best Reward: 945.40\n"
     ]
    },
    {
     "name": "stderr",
     "output_type": "stream",
     "text": [
      "Training:  95%|█████████▌| 950/1000 [4:55:15<16:44, 20.10s/it]"
     ]
    },
    {
     "name": "stdout",
     "output_type": "stream",
     "text": [
      "\n",
      "Episode 950/1000\n",
      "  Avg Reward (last 10): 839.46\n",
      "  Avg Length (last 10): 940.5\n",
      "  Avg Loss (last 10): 0.5079\n",
      "  Epsilon: 0.050\n",
      "  Best Reward: 945.40\n"
     ]
    },
    {
     "name": "stderr",
     "output_type": "stream",
     "text": [
      "Training:  96%|█████████▌| 960/1000 [4:58:30<13:03, 19.59s/it]"
     ]
    },
    {
     "name": "stdout",
     "output_type": "stream",
     "text": [
      "\n",
      "Episode 960/1000\n",
      "  Avg Reward (last 10): 888.52\n",
      "  Avg Length (last 10): 931.2\n",
      "  Avg Loss (last 10): 0.5156\n",
      "  Epsilon: 0.050\n",
      "  Best Reward: 945.40\n"
     ]
    },
    {
     "name": "stderr",
     "output_type": "stream",
     "text": [
      "Training:  97%|█████████▋| 970/1000 [5:01:43<09:02, 18.07s/it]"
     ]
    },
    {
     "name": "stdout",
     "output_type": "stream",
     "text": [
      "\n",
      "Episode 970/1000\n",
      "  Avg Reward (last 10): 875.21\n",
      "  Avg Length (last 10): 931.9\n",
      "  Avg Loss (last 10): 0.5181\n",
      "  Epsilon: 0.050\n",
      "  Best Reward: 945.40\n"
     ]
    },
    {
     "name": "stderr",
     "output_type": "stream",
     "text": [
      "Training:  98%|█████████▊| 980/1000 [5:05:10<07:05, 21.26s/it]"
     ]
    },
    {
     "name": "stdout",
     "output_type": "stream",
     "text": [
      "\n",
      "Episode 980/1000\n",
      "  Avg Reward (last 10): 809.71\n",
      "  Avg Length (last 10): 992.3\n",
      "  Avg Loss (last 10): 0.5273\n",
      "  Epsilon: 0.050\n",
      "  Best Reward: 945.40\n"
     ]
    },
    {
     "name": "stderr",
     "output_type": "stream",
     "text": [
      "Training:  99%|█████████▉| 990/1000 [5:08:39<03:20, 20.08s/it]"
     ]
    },
    {
     "name": "stdout",
     "output_type": "stream",
     "text": [
      "\n",
      "Episode 990/1000\n",
      "  Avg Reward (last 10): 880.10\n",
      "  Avg Length (last 10): 937.9\n",
      "  Avg Loss (last 10): 0.5390\n",
      "  Epsilon: 0.050\n",
      "  Best Reward: 945.40\n"
     ]
    },
    {
     "name": "stderr",
     "output_type": "stream",
     "text": [
      "Training: 100%|██████████| 1000/1000 [5:12:05<00:00, 18.73s/it]"
     ]
    },
    {
     "name": "stdout",
     "output_type": "stream",
     "text": [
      "\n",
      "Episode 1000/1000\n",
      "  Avg Reward (last 10): 900.14\n",
      "  Avg Length (last 10): 924.4\n",
      "  Avg Loss (last 10): 0.5510\n",
      "  Epsilon: 0.050\n",
      "  Best Reward: 945.40\n",
      "\n",
      "Training completed!\n"
     ]
    },
    {
     "name": "stderr",
     "output_type": "stream",
     "text": [
      "\n"
     ]
    }
   ],
   "source": [
    "# Create environment\n",
    "env = gym.make('CarRacing-v2', render_mode='rgb_array')\n",
    "\n",
    "# Create agent\n",
    "agent = DQNAgent(NUM_ACTIONS, HYPERPARAMETERS)\n",
    "\n",
    "# Train agent\n",
    "training_stats = train_dqn(agent, env, HYPERPARAMETERS)\n",
    "\n",
    "env.close()\n",
    "print(\"\\nTraining completed!\")"
   ]
  },
  {
   "cell_type": "markdown",
   "metadata": {},
   "source": [
    "## 11. Training results"
   ]
  },
  {
   "cell_type": "code",
   "execution_count": 15,
   "metadata": {
    "execution": {
     "iopub.execute_input": "2025-10-30T02:10:52.272592Z",
     "iopub.status.busy": "2025-10-30T02:10:52.272053Z",
     "iopub.status.idle": "2025-10-30T02:10:54.721022Z",
     "shell.execute_reply": "2025-10-30T02:10:54.720104Z",
     "shell.execute_reply.started": "2025-10-30T02:10:52.272574Z"
    },
    "trusted": true
   },
   "outputs": [
    {
     "data": {
      "image/png": "[encoded data removed]",
      "text/plain": [
       "<Figure size 1500x1000 with 4 Axes>"
      ]
     },
     "metadata": {},
     "output_type": "display_data"
    }
   ],
   "source": [
    "def plot_training_results(stats, window=10):\n",
    "    \"\"\"Plot training curves\"\"\"\n",
    "    fig, axes = plt.subplots(2, 2, figsize=(15, 10))\n",
    "    \n",
    "    # Episode Rewards\n",
    "    axes[0, 0].plot(stats['episode_rewards'], alpha=0.3, label='Raw')\n",
    "    if len(stats['episode_rewards']) >= window:\n",
    "        moving_avg = np.convolve(stats['episode_rewards'], \n",
    "                                np.ones(window)/window, mode='valid')\n",
    "        axes[0, 0].plot(range(window-1, len(stats['episode_rewards'])), \n",
    "                       moving_avg, linewidth=2, label=f'{window}-Episode MA')\n",
    "    axes[0, 0].set_xlabel('Episode')\n",
    "    axes[0, 0].set_ylabel('Total Reward')\n",
    "    axes[0, 0].set_title('Episode Rewards')\n",
    "    axes[0, 0].legend()\n",
    "    axes[0, 0].grid(True, alpha=0.3)\n",
    "    \n",
    "    # Episode Lengths\n",
    "    axes[0, 1].plot(stats['episode_lengths'], alpha=0.3, label='Raw')\n",
    "    if len(stats['episode_lengths']) >= window:\n",
    "        moving_avg = np.convolve(stats['episode_lengths'], \n",
    "                                np.ones(window)/window, mode='valid')\n",
    "        axes[0, 1].plot(range(window-1, len(stats['episode_lengths'])), \n",
    "                       moving_avg, linewidth=2, label=f'{window}-Episode MA')\n",
    "    axes[0, 1].set_xlabel('Episode')\n",
    "    axes[0, 1].set_ylabel('Steps')\n",
    "    axes[0, 1].set_title('Episode Lengths')\n",
    "    axes[0, 1].legend()\n",
    "    axes[0, 1].grid(True, alpha=0.3)\n",
    "    \n",
    "    # Training Loss\n",
    "    if stats['losses']:\n",
    "        axes[1, 0].plot(stats['losses'], alpha=0.3, label='Raw')\n",
    "        if len(stats['losses']) >= window:\n",
    "            moving_avg = np.convolve(stats['losses'], \n",
    "                                    np.ones(window)/window, mode='valid')\n",
    "            axes[1, 0].plot(range(window-1, len(stats['losses'])), \n",
    "                           moving_avg, linewidth=2, label=f'{window}-Episode MA')\n",
    "        axes[1, 0].set_xlabel('Episode')\n",
    "        axes[1, 0].set_ylabel('Loss')\n",
    "        axes[1, 0].set_title('Training Loss')\n",
    "        axes[1, 0].legend()\n",
    "        axes[1, 0].grid(True, alpha=0.3)\n",
    "    \n",
    "    # Epsilon Decay\n",
    "    axes[1, 1].plot(stats['epsilons'], linewidth=2)\n",
    "    axes[1, 1].set_xlabel('Episode')\n",
    "    axes[1, 1].set_ylabel('Epsilon')\n",
    "    axes[1, 1].set_title('Exploration Rate (Epsilon)')\n",
    "    axes[1, 1].grid(True, alpha=0.3)\n",
    "    \n",
    "    plt.tight_layout()\n",
    "    plt.savefig('training_curves.png', dpi=300, bbox_inches='tight')\n",
    "    plt.show()\n",
    "\n",
    "# Plot results\n",
    "plot_training_results(training_stats)"
   ]
  },
  {
   "cell_type": "markdown",
   "metadata": {},
   "source": [
    "## 12. Evaluation and Testing"
   ]
  },
  {
   "cell_type": "code",
   "execution_count": 16,
   "metadata": {
    "execution": {
     "iopub.execute_input": "2025-10-30T02:10:54.722229Z",
     "iopub.status.busy": "2025-10-30T02:10:54.721918Z",
     "iopub.status.idle": "2025-10-30T02:12:11.081688Z",
     "shell.execute_reply": "2025-10-30T02:12:11.080990Z",
     "shell.execute_reply.started": "2025-10-30T02:10:54.722211Z"
    },
    "trusted": true
   },
   "outputs": [
    {
     "name": "stderr",
     "output_type": "stream",
     "text": [
      "/tmp/ipykernel_125/1000689568.py:81: FutureWarning: You are using `torch.load` with `weights_only=False` (the current default value), which uses the default pickle module implicitly. It is possible to construct malicious pickle data which will execute arbitrary code during unpickling (See https://github.com/pytorch/pytorch/blob/main/SECURITY.md#untrusted-models for more details). In a future release, the default value for `weights_only` will be flipped to `True`. This limits the functions that could be executed during unpickling. Arbitrary objects will no longer be allowed to be loaded via this mode unless they are explicitly allowlisted by the user via `torch.serialization.add_safe_globals`. We recommend you start setting `weights_only=True` for any use case where you don't have full control of the loaded file. Please open an issue on GitHub for any issues related to this experimental feature.\n",
      "  checkpoint = torch.load(filepath, map_location=device)\n"
     ]
    },
    {
     "name": "stdout",
     "output_type": "stream",
     "text": [
      "Episode 1: Reward = 937.80, Length = 622\n",
      "Episode 2: Reward = 935.80, Length = 642\n",
      "Episode 3: Reward = 936.90, Length = 631\n",
      "Episode 4: Reward = 934.60, Length = 654\n",
      "Episode 5: Reward = 936.10, Length = 639\n",
      "Episode 6: Reward = 936.60, Length = 634\n",
      "Episode 7: Reward = 890.80, Length = 1000\n",
      "Episode 8: Reward = 896.86, Length = 1000\n",
      "Episode 9: Reward = 939.90, Length = 601\n",
      "Episode 10: Reward = 873.68, Length = 1000\n",
      "\n",
      "=== Evaluation Results ===\n",
      "Average Reward: 921.90 ± 23.44\n",
      "Average Length: 742.30 ± 169.21\n",
      "Best Reward: 939.90\n",
      "Worst Reward: 873.68\n"
     ]
    }
   ],
   "source": [
    "def evaluate_agent(agent, env, num_episodes=10, render=False):\n",
    "    \"\"\"Evaluate trained agent\"\"\"\n",
    "    episode_rewards = []\n",
    "    episode_lengths = []\n",
    "    \n",
    "    for episode in range(num_episodes):\n",
    "        state, _ = env.reset()\n",
    "        frame_stack = FrameStack(num_stack=4)\n",
    "        \n",
    "        processed_frame = preprocess_frame(state)\n",
    "        for _ in range(4):\n",
    "            frame_stack.add_frame(processed_frame)\n",
    "        current_state = frame_stack.get_state()\n",
    "        \n",
    "        episode_reward = 0\n",
    "        steps = 0\n",
    "        \n",
    "        while True:\n",
    "            action_idx = agent.select_action(current_state, training=False)\n",
    "            action = ACTIONS[action_idx]\n",
    "            \n",
    "            next_state, reward, terminated, truncated, _ = env.step(action)\n",
    "            done = terminated or truncated\n",
    "            \n",
    "            processed_frame = preprocess_frame(next_state)\n",
    "            frame_stack.add_frame(processed_frame)\n",
    "            current_state = frame_stack.get_state()\n",
    "            \n",
    "            episode_reward += reward\n",
    "            steps += 1\n",
    "            \n",
    "            if done:\n",
    "                break\n",
    "        \n",
    "        episode_rewards.append(episode_reward)\n",
    "        episode_lengths.append(steps)\n",
    "        print(f\"Episode {episode+1}: Reward = {episode_reward:.2f}, Length = {steps}\")\n",
    "    \n",
    "    print(f\"\\n=== Evaluation Results ===\")\n",
    "    print(f\"Average Reward: {np.mean(episode_rewards):.2f} ± {np.std(episode_rewards):.2f}\")\n",
    "    print(f\"Average Length: {np.mean(episode_lengths):.2f} ± {np.std(episode_lengths):.2f}\")\n",
    "    print(f\"Best Reward: {np.max(episode_rewards):.2f}\")\n",
    "    print(f\"Worst Reward: {np.min(episode_rewards):.2f}\")\n",
    "    \n",
    "    return episode_rewards, episode_lengths\n",
    "\n",
    "# Load best model and evaluate\n",
    "agent.load('models/best_model.pth')\n",
    "eval_rewards, eval_lengths = evaluate_agent(agent, env, num_episodes=10)\n",
    "\n",
    "env.close()"
   ]
  },
  {
   "cell_type": "markdown",
   "metadata": {},
   "source": [
    "## 13. Performance Analysis"
   ]
  },
  {
   "cell_type": "code",
   "execution_count": 17,
   "metadata": {
    "execution": {
     "iopub.execute_input": "2025-10-30T02:12:11.082849Z",
     "iopub.status.busy": "2025-10-30T02:12:11.082610Z",
     "iopub.status.idle": "2025-10-30T02:12:12.133015Z",
     "shell.execute_reply": "2025-10-30T02:12:12.132214Z",
     "shell.execute_reply.started": "2025-10-30T02:12:11.082832Z"
    },
    "trusted": true
   },
   "outputs": [
    {
     "data": {
      "image/png": "[encoded data removed]",
      "text/plain": [
       "<Figure size 1400x500 with 2 Axes>"
      ]
     },
     "metadata": {},
     "output_type": "display_data"
    }
   ],
   "source": [
    "def plot_evaluation_results(eval_rewards):\n",
    "    \"\"\"Plot evaluation results\"\"\"\n",
    "    fig, axes = plt.subplots(1, 2, figsize=(14, 5))\n",
    "    \n",
    "    # Bar plot of episode rewards\n",
    "    axes[0].bar(range(1, len(eval_rewards)+1), eval_rewards, alpha=0.7)\n",
    "    axes[0].axhline(y=np.mean(eval_rewards), color='r', linestyle='--', \n",
    "                   label=f'Mean: {np.mean(eval_rewards):.2f}')\n",
    "    axes[0].set_xlabel('Episode')\n",
    "    axes[0].set_ylabel('Total Reward')\n",
    "    axes[0].set_title('Evaluation Episode Rewards')\n",
    "    axes[0].legend()\n",
    "    axes[0].grid(True, alpha=0.3)\n",
    "    \n",
    "    # Box plot\n",
    "    axes[1].boxplot(eval_rewards, vert=True)\n",
    "    axes[1].set_ylabel('Total Reward')\n",
    "    axes[1].set_title('Reward Distribution')\n",
    "    axes[1].grid(True, alpha=0.3)\n",
    "    \n",
    "    plt.tight_layout()\n",
    "    plt.savefig('evaluation_results.png', dpi=300, bbox_inches='tight')\n",
    "    plt.show()\n",
    "\n",
    "plot_evaluation_results(eval_rewards)"
   ]
  },
  {
   "cell_type": "markdown",
   "metadata": {},
   "source": [
    "## 14. Fine Tuning\n",
    "\n",
    "We tried different hyperparameter combinations to improve performance."
   ]
  },
  {
   "cell_type": "code",
   "execution_count": 20,
   "metadata": {
    "execution": {
     "iopub.execute_input": "2025-10-30T02:32:51.909368Z",
     "iopub.status.busy": "2025-10-30T02:32:51.908742Z",
     "iopub.status.idle": "2025-10-30T02:32:51.915780Z",
     "shell.execute_reply": "2025-10-30T02:32:51.915058Z",
     "shell.execute_reply.started": "2025-10-30T02:32:51.909344Z"
    },
    "trusted": true
   },
   "outputs": [
    {
     "name": "stdout",
     "output_type": "stream",
     "text": [
      "Hyperparameter configurations for tuning:\n",
      "\n",
      "Config 1: Higher LR\n",
      "  learning_rate       : 0.0003\n",
      "  gamma               : 0.99\n",
      "  epsilon_decay       : 0.995\n",
      "  batch_size          : 64\n",
      "  buffer_size         : 200000\n",
      "  target_update       : 5000\n",
      "  epsilon_start       : 1.0\n",
      "  epsilon_end         : 0.05\n",
      "  num_episodes        : 1000\n",
      "  max_steps           : 1000\n",
      "\n",
      "Config 2: Larger Buffer\n",
      "  learning_rate       : 0.0001\n",
      "  gamma               : 0.99\n",
      "  epsilon_decay       : 0.995\n",
      "  batch_size          : 64\n",
      "  buffer_size         : 500000\n",
      "  target_update       : 5000\n",
      "  epsilon_start       : 1.0\n",
      "  epsilon_end         : 0.05\n",
      "  num_episodes        : 1000\n",
      "  max_steps           : 1000\n"
     ]
    }
   ],
   "source": [
    "# Define hyperparameter search space\n",
    "HYPERPARAMETER_CONFIGS = [\n",
    "\n",
    "\n",
    "    {\n",
    "        'name': 'Higher LR',\n",
    "        'learning_rate': 3e-4,           # plus haut mais pas trop (stabilité)\n",
    "        'gamma': 0.99,\n",
    "        'epsilon_decay': 0.995,\n",
    "        'batch_size': 64,\n",
    "        'buffer_size': 200_000,          # même buffer pour comparabilité\n",
    "        'target_update': 5000,\n",
    "        'epsilon_start': 1.0,\n",
    "        'epsilon_end': 0.05,\n",
    "        'num_episodes': 1000,\n",
    "        'max_steps': 1000,\n",
    "    },\n",
    "\n",
    "    {\n",
    "        'name': 'Larger Buffer',\n",
    "        'learning_rate': 1e-4,\n",
    "        'gamma': 0.99,\n",
    "        'epsilon_decay': 0.995,\n",
    "        'batch_size': 64,                # cohérent avec baseline\n",
    "        'buffer_size': 500_000,          # 2.5x plus grand\n",
    "        'target_update': 5000,\n",
    "        'epsilon_start': 1.0,\n",
    "        'epsilon_end': 0.05,\n",
    "        'num_episodes': 1000,\n",
    "        'max_steps': 1000,\n",
    "    },\n",
    "]\n",
    "\n",
    "print(\"Hyperparameter configurations for tuning:\")\n",
    "for i, config in enumerate(HYPERPARAMETER_CONFIGS):\n",
    "    print(f\"\\nConfig {i+1}: {config['name']}\")\n",
    "    for key, value in config.items():\n",
    "        if key != 'name':\n",
    "            print(f\"  {key:20s}: {value}\")"
   ]
  },
  {
   "cell_type": "code",
   "execution_count": null,
   "metadata": {
    "execution": {
     "iopub.execute_input": "2025-10-30T02:32:58.570360Z",
     "iopub.status.busy": "2025-10-30T02:32:58.569520Z",
     "iopub.status.idle": "2025-10-30T02:34:11.991285Z",
     "shell.execute_reply": "2025-10-30T02:34:11.990317Z",
     "shell.execute_reply.started": "2025-10-30T02:32:58.570325Z"
    },
    "trusted": true
   },
   "outputs": [
    {
     "name": "stdout",
     "output_type": "stream",
     "text": [
      "\n",
      "============================================================\n",
      "Training with config: Higher LR\n",
      "============================================================\n"
     ]
    },
    {
     "name": "stderr",
     "output_type": "stream",
     "text": [
      "Training:   0%|          | 3/1000 [01:13<6:46:19, 24.45s/it]\n"
     ]
    },
    {
     "ename": "KeyboardInterrupt",
     "evalue": "",
     "output_type": "error",
     "traceback": [
      "\u001b[0;31m---------------------------------------------------------------------------\u001b[0m",
      "\u001b[0;31mKeyboardInterrupt\u001b[0m                         Traceback (most recent call last)",
      "\u001b[0;32m/tmp/ipykernel_125/7649016.py\u001b[0m in \u001b[0;36m<cell line: 0>\u001b[0;34m()\u001b[0m\n\u001b[1;32m     11\u001b[0m \u001b[0;34m\u001b[0m\u001b[0m\n\u001b[1;32m     12\u001b[0m     \u001b[0msave_dir\u001b[0m \u001b[0;34m=\u001b[0m \u001b[0;34mf\"models/{config['name'].replace(' ', '_').lower()}\"\u001b[0m\u001b[0;34m\u001b[0m\u001b[0;34m\u001b[0m\u001b[0m\n\u001b[0;32m---> 13\u001b[0;31m     \u001b[0mstats\u001b[0m \u001b[0;34m=\u001b[0m \u001b[0mtrain_dqn\u001b[0m\u001b[0;34m(\u001b[0m\u001b[0magent\u001b[0m\u001b[0;34m,\u001b[0m \u001b[0menv\u001b[0m\u001b[0;34m,\u001b[0m \u001b[0mconfig\u001b[0m\u001b[0;34m,\u001b[0m \u001b[0msave_dir\u001b[0m\u001b[0;34m=\u001b[0m\u001b[0msave_dir\u001b[0m\u001b[0;34m)\u001b[0m\u001b[0;34m\u001b[0m\u001b[0;34m\u001b[0m\u001b[0m\n\u001b[0m\u001b[1;32m     14\u001b[0m \u001b[0;34m\u001b[0m\u001b[0m\n\u001b[1;32m     15\u001b[0m     \u001b[0mtuning_results\u001b[0m\u001b[0;34m[\u001b[0m\u001b[0mconfig\u001b[0m\u001b[0;34m[\u001b[0m\u001b[0;34m'name'\u001b[0m\u001b[0;34m]\u001b[0m\u001b[0;34m]\u001b[0m \u001b[0;34m=\u001b[0m \u001b[0mstats\u001b[0m\u001b[0;34m\u001b[0m\u001b[0;34m\u001b[0m\u001b[0m\n",
      "\u001b[0;32m/tmp/ipykernel_125/238459730.py\u001b[0m in \u001b[0;36mtrain_dqn\u001b[0;34m(agent, env, hyperparameters, save_dir)\u001b[0m\n\u001b[1;32m     46\u001b[0m \u001b[0;34m\u001b[0m\u001b[0m\n\u001b[1;32m     47\u001b[0m             \u001b[0;31m# Train\u001b[0m\u001b[0;34m\u001b[0m\u001b[0;34m\u001b[0m\u001b[0m\n\u001b[0;32m---> 48\u001b[0;31m             \u001b[0mloss\u001b[0m \u001b[0;34m=\u001b[0m \u001b[0magent\u001b[0m\u001b[0;34m.\u001b[0m\u001b[0mtrain_step\u001b[0m\u001b[0;34m(\u001b[0m\u001b[0;34m)\u001b[0m\u001b[0;34m\u001b[0m\u001b[0;34m\u001b[0m\u001b[0m\n\u001b[0m\u001b[1;32m     49\u001b[0m             \u001b[0;32mif\u001b[0m \u001b[0mloss\u001b[0m \u001b[0;32mis\u001b[0m \u001b[0;32mnot\u001b[0m \u001b[0;32mNone\u001b[0m\u001b[0;34m:\u001b[0m\u001b[0;34m\u001b[0m\u001b[0;34m\u001b[0m\u001b[0m\n\u001b[1;32m     50\u001b[0m                 \u001b[0mepisode_loss\u001b[0m\u001b[0;34m.\u001b[0m\u001b[0mappend\u001b[0m\u001b[0;34m(\u001b[0m\u001b[0mloss\u001b[0m\u001b[0;34m)\u001b[0m\u001b[0;34m\u001b[0m\u001b[0;34m\u001b[0m\u001b[0m\n",
      "\u001b[0;32m/tmp/ipykernel_125/1000689568.py\u001b[0m in \u001b[0;36mtrain_step\u001b[0;34m(self)\u001b[0m\n\u001b[1;32m     61\u001b[0m         \u001b[0;31m# Optimize\u001b[0m\u001b[0;34m\u001b[0m\u001b[0;34m\u001b[0m\u001b[0m\n\u001b[1;32m     62\u001b[0m         \u001b[0mself\u001b[0m\u001b[0;34m.\u001b[0m\u001b[0moptimizer\u001b[0m\u001b[0;34m.\u001b[0m\u001b[0mzero_grad\u001b[0m\u001b[0;34m(\u001b[0m\u001b[0;34m)\u001b[0m\u001b[0;34m\u001b[0m\u001b[0;34m\u001b[0m\u001b[0m\n\u001b[0;32m---> 63\u001b[0;31m         \u001b[0mloss\u001b[0m\u001b[0;34m.\u001b[0m\u001b[0mbackward\u001b[0m\u001b[0;34m(\u001b[0m\u001b[0;34m)\u001b[0m\u001b[0;34m\u001b[0m\u001b[0;34m\u001b[0m\u001b[0m\n\u001b[0m\u001b[1;32m     64\u001b[0m         \u001b[0mtorch\u001b[0m\u001b[0;34m.\u001b[0m\u001b[0mnn\u001b[0m\u001b[0;34m.\u001b[0m\u001b[0mutils\u001b[0m\u001b[0;34m.\u001b[0m\u001b[0mclip_grad_norm_\u001b[0m\u001b[0;34m(\u001b[0m\u001b[0mself\u001b[0m\u001b[0;34m.\u001b[0m\u001b[0mpolicy_net\u001b[0m\u001b[0;34m.\u001b[0m\u001b[0mparameters\u001b[0m\u001b[0;34m(\u001b[0m\u001b[0;34m)\u001b[0m\u001b[0;34m,\u001b[0m \u001b[0;36m10\u001b[0m\u001b[0;34m)\u001b[0m\u001b[0;34m\u001b[0m\u001b[0;34m\u001b[0m\u001b[0m\n\u001b[1;32m     65\u001b[0m         \u001b[0mself\u001b[0m\u001b[0;34m.\u001b[0m\u001b[0moptimizer\u001b[0m\u001b[0;34m.\u001b[0m\u001b[0mstep\u001b[0m\u001b[0;34m(\u001b[0m\u001b[0;34m)\u001b[0m\u001b[0;34m\u001b[0m\u001b[0;34m\u001b[0m\u001b[0m\n",
      "\u001b[0;32m/usr/local/lib/python3.11/dist-packages/torch/_tensor.py\u001b[0m in \u001b[0;36mbackward\u001b[0;34m(self, gradient, retain_graph, create_graph, inputs)\u001b[0m\n\u001b[1;32m    579\u001b[0m                 \u001b[0minputs\u001b[0m\u001b[0;34m=\u001b[0m\u001b[0minputs\u001b[0m\u001b[0;34m,\u001b[0m\u001b[0;34m\u001b[0m\u001b[0;34m\u001b[0m\u001b[0m\n\u001b[1;32m    580\u001b[0m             )\n\u001b[0;32m--> 581\u001b[0;31m         torch.autograd.backward(\n\u001b[0m\u001b[1;32m    582\u001b[0m             \u001b[0mself\u001b[0m\u001b[0;34m,\u001b[0m \u001b[0mgradient\u001b[0m\u001b[0;34m,\u001b[0m \u001b[0mretain_graph\u001b[0m\u001b[0;34m,\u001b[0m \u001b[0mcreate_graph\u001b[0m\u001b[0;34m,\u001b[0m \u001b[0minputs\u001b[0m\u001b[0;34m=\u001b[0m\u001b[0minputs\u001b[0m\u001b[0;34m\u001b[0m\u001b[0;34m\u001b[0m\u001b[0m\n\u001b[1;32m    583\u001b[0m         )\n",
      "\u001b[0;32m/usr/local/lib/python3.11/dist-packages/torch/autograd/__init__.py\u001b[0m in \u001b[0;36mbackward\u001b[0;34m(tensors, grad_tensors, retain_graph, create_graph, grad_variables, inputs)\u001b[0m\n\u001b[1;32m    345\u001b[0m     \u001b[0;31m# some Python versions print out the first line of a multi-line function\u001b[0m\u001b[0;34m\u001b[0m\u001b[0;34m\u001b[0m\u001b[0m\n\u001b[1;32m    346\u001b[0m     \u001b[0;31m# calls in the traceback and some print out the last line\u001b[0m\u001b[0;34m\u001b[0m\u001b[0;34m\u001b[0m\u001b[0m\n\u001b[0;32m--> 347\u001b[0;31m     _engine_run_backward(\n\u001b[0m\u001b[1;32m    348\u001b[0m         \u001b[0mtensors\u001b[0m\u001b[0;34m,\u001b[0m\u001b[0;34m\u001b[0m\u001b[0;34m\u001b[0m\u001b[0m\n\u001b[1;32m    349\u001b[0m         \u001b[0mgrad_tensors_\u001b[0m\u001b[0;34m,\u001b[0m\u001b[0;34m\u001b[0m\u001b[0;34m\u001b[0m\u001b[0m\n",
      "\u001b[0;32m/usr/local/lib/python3.11/dist-packages/torch/autograd/graph.py\u001b[0m in \u001b[0;36m_engine_run_backward\u001b[0;34m(t_outputs, *args, **kwargs)\u001b[0m\n\u001b[1;32m    823\u001b[0m         \u001b[0munregister_hooks\u001b[0m \u001b[0;34m=\u001b[0m \u001b[0m_register_logging_hooks_on_whole_graph\u001b[0m\u001b[0;34m(\u001b[0m\u001b[0mt_outputs\u001b[0m\u001b[0;34m)\u001b[0m\u001b[0;34m\u001b[0m\u001b[0;34m\u001b[0m\u001b[0m\n\u001b[1;32m    824\u001b[0m     \u001b[0;32mtry\u001b[0m\u001b[0;34m:\u001b[0m\u001b[0;34m\u001b[0m\u001b[0;34m\u001b[0m\u001b[0m\n\u001b[0;32m--> 825\u001b[0;31m         return Variable._execution_engine.run_backward(  # Calls into the C++ engine to run the backward pass\n\u001b[0m\u001b[1;32m    826\u001b[0m             \u001b[0mt_outputs\u001b[0m\u001b[0;34m,\u001b[0m \u001b[0;34m*\u001b[0m\u001b[0margs\u001b[0m\u001b[0;34m,\u001b[0m \u001b[0;34m**\u001b[0m\u001b[0mkwargs\u001b[0m\u001b[0;34m\u001b[0m\u001b[0;34m\u001b[0m\u001b[0m\n\u001b[1;32m    827\u001b[0m         )  # Calls into the C++ engine to run the backward pass\n",
      "\u001b[0;31mKeyboardInterrupt\u001b[0m: "
     ]
    }
   ],
   "source": [
    "tuning_results = {}\n",
    "\n",
    "for config in HYPERPARAMETER_CONFIGS:\n",
    "    print(f\"\\n{'='*60}\")\n",
    "    print(f\"Training with config: {config['name']}\")\n",
    "    print(f\"{'='*60}\")\n",
    "    \n",
    "    env = gym.make('CarRacing-v2', render_mode='rgb_array')\n",
    "    agent = DQNAgent(NUM_ACTIONS, config)\n",
    "    \n",
    "    save_dir = f\"models/{config['name'].replace(' ', '_').lower()}\"\n",
    "    stats = train_dqn(agent, env, config, save_dir=save_dir)\n",
    "    \n",
    "    tuning_results[config['name']] = stats\n",
    "    env.close()\n",
    "\n",
    "# Compare results\n",
    "plt.figure(figsize=(12, 6))\n",
    "for name, stats in tuning_results.items():\n",
    "    window = 10\n",
    "    moving_avg = np.convolve(stats['episode_rewards'], \n",
    "                             np.ones(window)/window, mode='valid')\n",
    "    plt.plot(range(window-1, len(stats['episode_rewards'])), \n",
    "             moving_avg, linewidth=2, label=name)\n",
    "\n",
    "plt.xlabel('Episode')\n",
    "plt.ylabel('Average Reward (10-episode MA)')\n",
    "plt.title('Hyperparameter Tuning Results')\n",
    "plt.legend()\n",
    "plt.grid(True, alpha=0.3)\n",
    "plt.savefig('hyperparameter_tuning.png', dpi=300, bbox_inches='tight')\n",
    "plt.show()\n",
    "\n",
    "print(\"Hyperparameter tuning code ready (active)\")\n",
    "print(\"Running experiments with different configurations...\")\n"
   ]
  },
  {
   "cell_type": "markdown",
   "metadata": {},
   "source": [
    "## 15. Video and Gif"
   ]
  },
  {
   "cell_type": "code",
   "execution_count": 23,
   "metadata": {
    "execution": {
     "iopub.execute_input": "2025-10-30T02:34:22.861979Z",
     "iopub.status.busy": "2025-10-30T02:34:22.861274Z",
     "iopub.status.idle": "2025-10-30T02:34:25.359496Z",
     "shell.execute_reply": "2025-10-30T02:34:25.358681Z",
     "shell.execute_reply.started": "2025-10-30T02:34:22.861954Z"
    },
    "trusted": true
   },
   "outputs": [
    {
     "name": "stdout",
     "output_type": "stream",
     "text": [
      "Requirement already satisfied: imageio in /usr/local/lib/python3.11/dist-packages (2.37.0)\n",
      "Requirement already satisfied: imageio-ffmpeg in /usr/local/lib/python3.11/dist-packages (0.6.0)\n",
      "Requirement already satisfied: numpy in /usr/local/lib/python3.11/dist-packages (from imageio) (1.26.4)\n",
      "Requirement already satisfied: pillow>=8.3.2 in /usr/local/lib/python3.11/dist-packages (from imageio) (11.3.0)\n"
     ]
    }
   ],
   "source": [
    "!pip install imageio imageio-ffmpeg"
   ]
  },
  {
   "cell_type": "code",
   "execution_count": null,
   "metadata": {
    "execution": {
     "iopub.execute_input": "2025-10-30T03:25:09.183344Z",
     "iopub.status.busy": "2025-10-30T03:25:09.183001Z",
     "iopub.status.idle": "2025-10-30T03:25:38.976850Z",
     "shell.execute_reply": "2025-10-30T03:25:38.975904Z",
     "shell.execute_reply.started": "2025-10-30T03:25:09.183318Z"
    },
    "trusted": true
   },
   "outputs": [
    {
     "name": "stderr",
     "output_type": "stream",
     "text": [
      "/tmp/ipykernel_125/1000689568.py:81: FutureWarning: You are using `torch.load` with `weights_only=False` (the current default value), which uses the default pickle module implicitly. It is possible to construct malicious pickle data which will execute arbitrary code during unpickling (See https://github.com/pytorch/pytorch/blob/main/SECURITY.md#untrusted-models for more details). In a future release, the default value for `weights_only` will be flipped to `True`. This limits the functions that could be executed during unpickling. Arbitrary objects will no longer be allowed to be loaded via this mode unless they are explicitly allowlisted by the user via `torch.serialization.add_safe_globals`. We recommend you start setting `weights_only=True` for any use case where you don't have full control of the loaded file. Please open an issue on GitHub for any issues related to this experimental feature.\n",
      "  checkpoint = torch.load(filepath, map_location=device)\n",
      "Multiple -pix_fmt options specified for stream 0, only the last option '-pix_fmt yuv420p' will be used.\n"
     ]
    },
    {
     "name": "stdout",
     "output_type": "stream",
     "text": [
      "Vidéo enregistrée : run_car_racing.mp4 | Reward total : 933.10\n",
      "GIF enregistré : run_car_racing.gif\n"
     ]
    }
   ],
   "source": [
    "import gymnasium as gym\n",
    "import numpy as np\n",
    "import imageio\n",
    "import cv2\n",
    "from pathlib import Path\n",
    "\n",
    "def record_episode(\n",
    "    agent,\n",
    "    mp4_path=\"agent_run.mp4\",\n",
    "    num_steps=500,\n",
    "    fps=30,\n",
    "    to_gif=False,\n",
    "    gif_path=\"agent_run.gif\",\n",
    "    gif_fps=30,\n",
    "    resize=None\n",
    "):\n",
    "    \"\"\"\n",
    "    Joue un épisode avec l'agent et enregistre une vidéo +  un GIF.\n",
    "    \"\"\"\n",
    "    mp4_path = Path(mp4_path)\n",
    "    gif_path = Path(gif_path) if to_gif else None\n",
    "\n",
    "    env = gym.make(\"CarRacing-v2\", render_mode=\"rgb_array\")\n",
    "    state, _ = env.reset()\n",
    "\n",
    "    frame_stack = FrameStack(num_stack=4)\n",
    "    processed = preprocess_frame(state)\n",
    "    for _ in range(4):\n",
    "        frame_stack.add_frame(processed)\n",
    "    current_state = frame_stack.get_state()\n",
    "\n",
    "    episode_reward = 0.0\n",
    "    frames_for_gif = []\n",
    "\n",
    "    writer = imageio.get_writer(\n",
    "        mp4_path.as_posix(),\n",
    "        fps=fps,\n",
    "        codec=\"libx264\",\n",
    "        format=\"FFMPEG\",\n",
    "        output_params=[\"-pix_fmt\", \"yuv420p\"]\n",
    "    )\n",
    "\n",
    "    try:\n",
    "        for step in range(num_steps):\n",
    "            action_idx = agent.select_action(current_state, training=False)\n",
    "            action = ACTIONS[action_idx]\n",
    "\n",
    "            next_state, reward, terminated, truncated, _ = env.step(action)\n",
    "            done = terminated or truncated\n",
    "            episode_reward += reward\n",
    "\n",
    "            frame_rgb = next_state \n",
    "            if resize is not None:\n",
    "                frame_rgb = cv2.resize(frame_rgb, resize, interpolation=cv2.INTER_AREA)\n",
    "            frame_rgb = np.asarray(frame_rgb, dtype=np.uint8)\n",
    "\n",
    "            writer.append_data(frame_rgb)\n",
    "            if to_gif:\n",
    "                frames_for_gif.append(frame_rgb)\n",
    "\n",
    "            processed = preprocess_frame(next_state)\n",
    "            frame_stack.add_frame(processed)\n",
    "            current_state = frame_stack.get_state()\n",
    "\n",
    "            if done:\n",
    "                break\n",
    "    finally:\n",
    "        writer.close()\n",
    "        env.close()\n",
    "\n",
    "    print(f\"Vidéo enregistrée : {mp4_path} | Reward total : {episode_reward:.2f}\")\n",
    "\n",
    "    if to_gif and len(frames_for_gif) > 0:\n",
    "        imageio.mimsave(gif_path.as_posix(), frames_for_gif, duration=1.0/gif_fps, loop=0)\n",
    "        print(f\"GIF enregistré : {gif_path}\")\n",
    "\n",
    "agent.load('models/best_model.pth')\n",
    "record_episode(agent, mp4_path=\"run_car_racing.mp4\", num_steps=2000, fps=30, to_gif=True, gif_path=\"run_car_racing.gif\", gif_fps=20, resize=(512, 512))\n"
   ]
  }
 ],
 "metadata": {
  "kaggle": {
   "accelerator": "nvidiaTeslaT4",
   "dataSources": [],
   "dockerImageVersionId": 31154,
   "isGpuEnabled": true,
   "isInternetEnabled": true,
   "language": "python",
   "sourceType": "notebook"
  },
  "kernelspec": {
   "display_name": "Python 3",
   "language": "python",
   "name": "python3"
  },
  "language_info": {
   "codemirror_mode": {
    "name": "ipython",
    "version": 3
   },
   "file_extension": ".py",
   "mimetype": "text/x-python",
   "name": "python",
   "nbconvert_exporter": "python",
   "pygments_lexer": "ipython3",
   "version": "3.11.13"
  }
 },
 "nbformat": 4,
 "nbformat_minor": 4
}
